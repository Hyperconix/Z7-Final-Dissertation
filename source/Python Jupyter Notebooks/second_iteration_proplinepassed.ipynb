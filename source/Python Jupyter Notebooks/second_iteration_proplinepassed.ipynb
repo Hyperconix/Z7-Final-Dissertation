{
 "cells": [
  {
   "cell_type": "markdown",
   "id": "8da29aa7-95b9-458c-afe3-213e04f5ed01",
   "metadata": {
    "tags": []
   },
   "source": [
    "#### Imports"
   ]
  },
  {
   "cell_type": "markdown",
   "id": "4c1b66f8-80e6-451b-aea4-f58109c39452",
   "metadata": {},
   "source": [
    "# Automated Software Improvement: A Machine Learning Solution\n",
    "## Second Iteration - Prop Line Passed\n",
    "### 2727141 Luke Skinner\n",
    "### Supervisor: Dr Sandy Brownlee"
   ]
  },
  {
   "cell_type": "markdown",
   "id": "c2a99459-edda-44e4-9c8a-348b9cf4735d",
   "metadata": {},
   "source": [
    "## Overview\n",
    "\n",
    "These notebooks contain all the work performed on the second iteration of the Machine Learning model(s) to help guide automated improvement of Software. The dataset provided for this iteration is \"merged_stats_sb_17112020_iter2.csv\" which is an aggregate of experimental results of edits performed on open source projects. This will include the second cycle of building an effective model. This cycle involved exploring Feature Construction, which used a tool called JavaParser, which allows the ability to parse and intrepret Java Source Files as a tree. This was used to create simple metrics, such as the number of nested if statements in a method. These were then used as new features to attempt to build a predictive model."
   ]
  },
  {
   "cell_type": "code",
   "execution_count": 18,
   "id": "a4c20c5d-a778-4ee4-8232-93e070df68b1",
   "metadata": {},
   "outputs": [],
   "source": [
    "import seaborn as sns \n",
    "import pandas as pd\n",
    "from sklearn.metrics import r2_score, mean_squared_error, mean_absolute_error\n",
    "from sklearn.ensemble import RandomForestRegressor \n",
    "from sklearn.linear_model import LinearRegression\n",
    "from sklearn.linear_model import Ridge\n",
    "from sklearn.neighbors import KNeighborsRegressor\n",
    "from sklearn.model_selection import train_test_split, RepeatedKFold, GridSearchCV, RandomizedSearchCV\n",
    "from sklearn.neural_network import MLPRegressor\n",
    "import numpy as np\n",
    "import matplotlib as plt\n",
    "from scipy.stats import loguniform\n",
    "import statsmodels.api as sma"
   ]
  },
  {
   "cell_type": "markdown",
   "id": "6a11034d-0464-4869-b2a3-46b85f3771c1",
   "metadata": {
    "tags": []
   },
   "source": [
    "#### Utility Functions"
   ]
  },
  {
   "cell_type": "code",
   "execution_count": 19,
   "id": "e693d54f-31b4-4217-a542-9d795df061f3",
   "metadata": {},
   "outputs": [],
   "source": [
    "def cacl_adj_r2(r2, n, k):\n",
    "    \"\"\"\n",
    "    Calculates the adjusted r2 score based on the following formula:\n",
    "    Adjusted r2 = 1 - (1 - r2) * (n - 1) / (n - k - 1). This is used to\n",
    "    complement the original r2 score to give a better understanding of\n",
    "    how the model explains variance of the predictor variables\n",
    "\n",
    "    Parameters:\n",
    "        r2 (float): The original r2 score (from sklearn)\n",
    "        n (int): The number of observations\n",
    "        k (int): The number of predictor variables\n",
    "\n",
    "    Returns:\n",
    "        adj_r2 (float): The adjusted r2 score \n",
    "    \"\"\"\n",
    "    return 1 - (1 - r2) * (n - 1) / (n - k - 1)\n",
    "\n",
    "def calc_p_value(X, y):\n",
    "    X2 = sma.add_constant(X)\n",
    "    \n",
    "    return sma.OLS(y, X2)\n",
    "    "
   ]
  },
  {
   "cell_type": "markdown",
   "id": "0f9a0066-f1c4-40e6-bf26-cdcb6a526b60",
   "metadata": {
    "tags": []
   },
   "source": [
    "#### Load Dataset"
   ]
  },
  {
   "cell_type": "code",
   "execution_count": 20,
   "id": "db923707-9b25-443d-8ba7-1f118df0e944",
   "metadata": {},
   "outputs": [],
   "source": [
    "df = pd.read_csv('data/merged_stats_sb_17112020_iter2.csv')"
   ]
  },
  {
   "cell_type": "code",
   "execution_count": 54,
   "id": "879ccdac-c49b-4191-b96f-09a01f26fa40",
   "metadata": {},
   "outputs": [
    {
     "name": "stdout",
     "output_type": "stream",
     "text": [
      "<class 'pandas.core.frame.DataFrame'>\n",
      "RangeIndex: 2157 entries, 0 to 2156\n",
      "Data columns (total 45 columns):\n",
      " #   Column                      Non-Null Count  Dtype  \n",
      "---  ------                      --------------  -----  \n",
      " 0   CompositeKey                2157 non-null   object \n",
      " 1   Project                     2157 non-null   object \n",
      " 2   MethodIndex                 2157 non-null   int64  \n",
      " 3   MethodName                  2157 non-null   object \n",
      " 4   numLines                    2157 non-null   int64  \n",
      " 5   numStatements               2157 non-null   int64  \n",
      " 6   EditDensity                 2157 non-null   float64\n",
      " 7   AveUseDefDist               2157 non-null   float64\n",
      " 8   NotDeclared                 2157 non-null   int64  \n",
      " 9   AveUseDefDist/MethodLength  2157 non-null   float64\n",
      " 10  MedDefUseDist               2157 non-null   float64\n",
      " 11  MedUseDefDist/MethodLength  2157 non-null   float64\n",
      " 12  CountLine                   2157 non-null   int64  \n",
      " 13  CompiledLine                2157 non-null   int64  \n",
      " 14  PassedLine                  2157 non-null   int64  \n",
      " 15  CountStat                   2157 non-null   int64  \n",
      " 16  CompiledStat                2157 non-null   int64  \n",
      " 17  PassedStat                  2157 non-null   int64  \n",
      " 18  PropLineCompiled            2157 non-null   float64\n",
      " 19  PropLinePassed              2157 non-null   float64\n",
      " 20  PropStatCompiled            2157 non-null   float64\n",
      " 21  PropStatPassed              2157 non-null   float64\n",
      " 22  cyclomatic                  2157 non-null   int64  \n",
      " 23  ncss                        2157 non-null   int64  \n",
      " 24  npath                       2157 non-null   int64  \n",
      " 25  cyc/length                  2157 non-null   float64\n",
      " 26  ncss/length                 2157 non-null   float64\n",
      " 27  npath/length                2157 non-null   float64\n",
      " 28  InstCoverage-missed         2157 non-null   int64  \n",
      " 29  InstCoverage-covered        2157 non-null   int64  \n",
      " 30  InstCoverage                2157 non-null   float64\n",
      " 31  surfaceIfs                  2157 non-null   int64  \n",
      " 32  nestedIfs                   2157 non-null   int64  \n",
      " 33  surfaceSwitches             2157 non-null   int64  \n",
      " 34  nestedSwitches              2157 non-null   int64  \n",
      " 35  surfaceFors                 2157 non-null   int64  \n",
      " 36  nestedFors                  2157 non-null   int64  \n",
      " 37  surfaceForEachs             2157 non-null   int64  \n",
      " 38  nestedForEachs              2157 non-null   int64  \n",
      " 39  surfaceWhiles               2157 non-null   int64  \n",
      " 40  nestedWhiles                2157 non-null   int64  \n",
      " 41  surfaceDos                  2157 non-null   int64  \n",
      " 42  nestedDos                   2157 non-null   int64  \n",
      " 43  iterativeStmts              2157 non-null   int64  \n",
      " 44  conditionalStmts            2157 non-null   int64  \n",
      "dtypes: float64(13), int64(29), object(3)\n",
      "memory usage: 758.4+ KB\n"
     ]
    }
   ],
   "source": [
    "df.info()"
   ]
  },
  {
   "cell_type": "markdown",
   "id": "2e4d45cf-d880-46c5-bf4e-b1e6d44aa4c2",
   "metadata": {},
   "source": [
    "## Proposed Model with JavaParser Metrics 1 - Proportion Line Passed\n",
    "## 1. Data Visualisation"
   ]
  },
  {
   "cell_type": "code",
   "execution_count": 21,
   "id": "b70cfac1-7d8a-456a-ae53-8d4a08201170",
   "metadata": {},
   "outputs": [
    {
     "data": {
      "text/plain": [
       "MethodIndex                   0.213195\n",
       "numLines                      0.110567\n",
       "numStatements                 0.124634\n",
       "EditDensity                  -0.033739\n",
       "AveUseDefDist                 0.115697\n",
       "NotDeclared                   0.006910\n",
       "AveUseDefDist/MethodLength    0.066969\n",
       "MedDefUseDist                 0.133223\n",
       "MedUseDefDist/MethodLength    0.044016\n",
       "CountLine                    -0.010677\n",
       "CompiledLine                  0.078609\n",
       "PassedLine                    0.129381\n",
       "CountStat                    -0.010677\n",
       "CompiledStat                  0.025546\n",
       "PassedStat                    0.060022\n",
       "PropLineCompiled              0.816889\n",
       "PropStatCompiled              0.443489\n",
       "PropStatPassed                0.563709\n",
       "cyclomatic                    0.076494\n",
       "ncss                          0.130679\n",
       "npath                         0.011387\n",
       "cyc/length                   -0.071027\n",
       "ncss/length                   0.122020\n",
       "npath/length                 -0.034211\n",
       "InstCoverage-missed           0.075117\n",
       "InstCoverage-covered          0.081528\n",
       "InstCoverage                 -0.037230\n",
       "surfaceIfs                    0.101291\n",
       "nestedIfs                     0.081497\n",
       "surfaceSwitches               0.027197\n",
       "nestedSwitches                0.080081\n",
       "surfaceFors                  -0.067346\n",
       "nestedFors                   -0.032462\n",
       "surfaceForEachs              -0.029072\n",
       "nestedForEachs                0.003047\n",
       "surfaceWhiles                -0.036317\n",
       "nestedWhiles                 -0.029267\n",
       "surfaceDos                   -0.009930\n",
       "nestedDos                    -0.025764\n",
       "iterativeStmts               -0.060259\n",
       "conditionalStmts              0.120410\n",
       "dtype: float64"
      ]
     },
     "execution_count": 21,
     "metadata": {},
     "output_type": "execute_result"
    }
   ],
   "source": [
    "df.corrwith(df['PropLinePassed']).drop('PropLinePassed')"
   ]
  },
  {
   "cell_type": "markdown",
   "id": "1cd4494e-55a7-491c-b1bd-8d5a823ee6f1",
   "metadata": {},
   "source": [
    "## 2. Data Preparation"
   ]
  },
  {
   "cell_type": "code",
   "execution_count": 22,
   "id": "bb21ace0-f787-479f-8901-16b6b19ed7bc",
   "metadata": {
    "tags": []
   },
   "outputs": [
    {
     "name": "stdout",
     "output_type": "stream",
     "text": [
      "<class 'pandas.core.frame.DataFrame'>\n",
      "RangeIndex: 2157 entries, 0 to 2156\n",
      "Data columns (total 41 columns):\n",
      " #   Column                      Non-Null Count  Dtype  \n",
      "---  ------                      --------------  -----  \n",
      " 0   numLines                    2157 non-null   int64  \n",
      " 1   numStatements               2157 non-null   int64  \n",
      " 2   EditDensity                 2157 non-null   float64\n",
      " 3   AveUseDefDist               2157 non-null   float64\n",
      " 4   NotDeclared                 2157 non-null   int64  \n",
      " 5   AveUseDefDist/MethodLength  2157 non-null   float64\n",
      " 6   MedDefUseDist               2157 non-null   float64\n",
      " 7   MedUseDefDist/MethodLength  2157 non-null   float64\n",
      " 8   CountLine                   2157 non-null   int64  \n",
      " 9   CompiledLine                2157 non-null   int64  \n",
      " 10  PassedLine                  2157 non-null   int64  \n",
      " 11  CountStat                   2157 non-null   int64  \n",
      " 12  CompiledStat                2157 non-null   int64  \n",
      " 13  PassedStat                  2157 non-null   int64  \n",
      " 14  PropLineCompiled            2157 non-null   float64\n",
      " 15  PropLinePassed              2157 non-null   float64\n",
      " 16  PropStatCompiled            2157 non-null   float64\n",
      " 17  PropStatPassed              2157 non-null   float64\n",
      " 18  cyclomatic                  2157 non-null   int64  \n",
      " 19  ncss                        2157 non-null   int64  \n",
      " 20  npath                       2157 non-null   int64  \n",
      " 21  cyc/length                  2157 non-null   float64\n",
      " 22  ncss/length                 2157 non-null   float64\n",
      " 23  npath/length                2157 non-null   float64\n",
      " 24  InstCoverage-missed         2157 non-null   int64  \n",
      " 25  InstCoverage-covered        2157 non-null   int64  \n",
      " 26  InstCoverage                2157 non-null   float64\n",
      " 27  surfaceIfs                  2157 non-null   int64  \n",
      " 28  nestedIfs                   2157 non-null   int64  \n",
      " 29  surfaceSwitches             2157 non-null   int64  \n",
      " 30  nestedSwitches              2157 non-null   int64  \n",
      " 31  surfaceFors                 2157 non-null   int64  \n",
      " 32  nestedFors                  2157 non-null   int64  \n",
      " 33  surfaceForEachs             2157 non-null   int64  \n",
      " 34  nestedForEachs              2157 non-null   int64  \n",
      " 35  surfaceWhiles               2157 non-null   int64  \n",
      " 36  nestedWhiles                2157 non-null   int64  \n",
      " 37  surfaceDos                  2157 non-null   int64  \n",
      " 38  nestedDos                   2157 non-null   int64  \n",
      " 39  iterativeStmts              2157 non-null   int64  \n",
      " 40  conditionalStmts            2157 non-null   int64  \n",
      "dtypes: float64(13), int64(28)\n",
      "memory usage: 691.0 KB\n",
      "<class 'pandas.core.frame.DataFrame'>\n",
      "Int64Index: 925 entries, 1 to 2156\n",
      "Data columns (total 41 columns):\n",
      " #   Column                      Non-Null Count  Dtype  \n",
      "---  ------                      --------------  -----  \n",
      " 0   numLines                    925 non-null    int64  \n",
      " 1   numStatements               925 non-null    int64  \n",
      " 2   EditDensity                 925 non-null    float64\n",
      " 3   AveUseDefDist               925 non-null    float64\n",
      " 4   NotDeclared                 925 non-null    int64  \n",
      " 5   AveUseDefDist/MethodLength  925 non-null    float64\n",
      " 6   MedDefUseDist               925 non-null    float64\n",
      " 7   MedUseDefDist/MethodLength  925 non-null    float64\n",
      " 8   CountLine                   925 non-null    int64  \n",
      " 9   CompiledLine                925 non-null    int64  \n",
      " 10  PassedLine                  925 non-null    int64  \n",
      " 11  CountStat                   925 non-null    int64  \n",
      " 12  CompiledStat                925 non-null    int64  \n",
      " 13  PassedStat                  925 non-null    int64  \n",
      " 14  PropLineCompiled            925 non-null    float64\n",
      " 15  PropLinePassed              925 non-null    float64\n",
      " 16  PropStatCompiled            925 non-null    float64\n",
      " 17  PropStatPassed              925 non-null    float64\n",
      " 18  cyclomatic                  925 non-null    int64  \n",
      " 19  ncss                        925 non-null    int64  \n",
      " 20  npath                       925 non-null    int64  \n",
      " 21  cyc/length                  925 non-null    float64\n",
      " 22  ncss/length                 925 non-null    float64\n",
      " 23  npath/length                925 non-null    float64\n",
      " 24  InstCoverage-missed         925 non-null    int64  \n",
      " 25  InstCoverage-covered        925 non-null    int64  \n",
      " 26  InstCoverage                925 non-null    float64\n",
      " 27  surfaceIfs                  925 non-null    int64  \n",
      " 28  nestedIfs                   925 non-null    int64  \n",
      " 29  surfaceSwitches             925 non-null    int64  \n",
      " 30  nestedSwitches              925 non-null    int64  \n",
      " 31  surfaceFors                 925 non-null    int64  \n",
      " 32  nestedFors                  925 non-null    int64  \n",
      " 33  surfaceForEachs             925 non-null    int64  \n",
      " 34  nestedForEachs              925 non-null    int64  \n",
      " 35  surfaceWhiles               925 non-null    int64  \n",
      " 36  nestedWhiles                925 non-null    int64  \n",
      " 37  surfaceDos                  925 non-null    int64  \n",
      " 38  nestedDos                   925 non-null    int64  \n",
      " 39  iterativeStmts              925 non-null    int64  \n",
      " 40  conditionalStmts            925 non-null    int64  \n",
      "dtypes: float64(13), int64(28)\n",
      "memory usage: 303.5 KB\n"
     ]
    }
   ],
   "source": [
    "# Lets remove the non numerical fields as they are not useful for the model\n",
    "df_new = df.drop(['CompositeKey', 'Project', 'MethodName', 'MethodIndex'], axis=1)\n",
    "\n",
    "df_new.info() \n",
    "\n",
    "# We will filter out all rows which have a numLines < 10, we also want to only look at rows with sensible npath values\n",
    "df_new = df_new[(df_new.numLines > 10) & (df.npath > -1)]\n",
    "\n",
    "df_new.info()"
   ]
  },
  {
   "cell_type": "markdown",
   "id": "00a989e8-d3e2-483c-9acb-75d97ded4326",
   "metadata": {},
   "source": [
    "## 3. Beginning Train/Test split\n",
    "\n",
    "##### We now want to identify the features which are most important, we will start by looking at all the other fields with respect to the target. First we will split the data 70%/30%."
   ]
  },
  {
   "cell_type": "code",
   "execution_count": 23,
   "id": "57baad57-85a6-45da-879d-180c52ea7f82",
   "metadata": {},
   "outputs": [
    {
     "name": "stdout",
     "output_type": "stream",
     "text": [
      "(647, 40)\n",
      "(278, 40)\n",
      "(647,)\n",
      "(278,)\n"
     ]
    }
   ],
   "source": [
    "X = df_new.drop(['PropLinePassed'], axis=1)\n",
    "\n",
    "y = df_new['PropLinePassed']\n",
    "\n",
    "X_train, X_test, y_train, y_test = train_test_split(X, y, \n",
    "                                            test_size=0.3, random_state=1)\n",
    "print(X_train.shape)\n",
    "\n",
    "print(X_test.shape)\n",
    "\n",
    "print(y_train.shape)\n",
    "\n",
    "print(y_test.shape)"
   ]
  },
  {
   "cell_type": "markdown",
   "id": "af19eb00-77a4-4a47-b454-6c96573516e5",
   "metadata": {},
   "source": [
    "## 4. Feature Importances at a glance\n",
    "\n",
    "##### To get the feature importances, we will first start by fitting an overall RandomForest model on the data and seeing what it produces as feature importances. This will not be the final model."
   ]
  },
  {
   "cell_type": "markdown",
   "id": "03119ad3-2561-4842-8cb2-433f05dfd4ca",
   "metadata": {},
   "source": [
    "#### P Value of X, y\n",
    "\n",
    "Let's take a look at some statistics, particurlary focusing on the P value. If it is less than 0.05 then we can reject the null hypothesis"
   ]
  },
  {
   "cell_type": "code",
   "execution_count": 24,
   "id": "4fa7017c-6b26-462a-900e-31ba9938c5fe",
   "metadata": {},
   "outputs": [
    {
     "name": "stdout",
     "output_type": "stream",
     "text": [
      "                            OLS Regression Results                            \n",
      "==============================================================================\n",
      "Dep. Variable:         PropLinePassed   R-squared:                       0.902\n",
      "Model:                            OLS   Adj. R-squared:                  0.898\n",
      "Method:                 Least Squares   F-statistic:                     220.0\n",
      "Date:                Wed, 07 Sep 2022   Prob (F-statistic):               0.00\n",
      "Time:                        23:36:25   Log-Likelihood:                 1885.7\n",
      "No. Observations:                 925   AIC:                            -3695.\n",
      "Df Residuals:                     887   BIC:                            -3512.\n",
      "Df Model:                          37                                         \n",
      "Covariance Type:            nonrobust                                         \n",
      "==============================================================================================\n",
      "                                 coef    std err          t      P>|t|      [0.025      0.975]\n",
      "----------------------------------------------------------------------------------------------\n",
      "const                          0.0003      0.014      0.023      0.982      -0.028       0.028\n",
      "numLines                      -0.0001      0.000     -0.583      0.560      -0.001       0.000\n",
      "numStatements                 -0.0008      0.001     -1.413      0.158      -0.002       0.000\n",
      "EditDensity                -2.614e-05   6.45e-05     -0.405      0.685      -0.000       0.000\n",
      "AveUseDefDist              -8.785e-05      0.000     -0.508      0.611      -0.000       0.000\n",
      "NotDeclared                   -0.0078      0.007     -1.136      0.256      -0.021       0.006\n",
      "AveUseDefDist/MethodLength     0.0068      0.009      0.775      0.439      -0.010       0.024\n",
      "MedDefUseDist                 -0.0004      0.000     -1.373      0.170      -0.001       0.000\n",
      "MedUseDefDist/MethodLength    -0.0005      0.011     -0.044      0.965      -0.022       0.021\n",
      "CountLine                   8.715e-05   2.45e-05      3.563      0.000    3.91e-05       0.000\n",
      "CompiledLine                  -0.0117      0.001    -22.413      0.000      -0.013      -0.011\n",
      "PassedLine                     0.0218      0.001     32.582      0.000       0.020       0.023\n",
      "CountStat                   8.715e-05   2.45e-05      3.563      0.000    3.91e-05       0.000\n",
      "CompiledStat                   0.0037      0.000     21.240      0.000       0.003       0.004\n",
      "PassedStat                    -0.0080      0.000    -31.414      0.000      -0.008      -0.007\n",
      "PropLineCompiled               0.6172      0.015     40.718      0.000       0.587       0.647\n",
      "PropStatCompiled              -0.2101      0.011    -18.381      0.000      -0.233      -0.188\n",
      "PropStatPassed                 0.3677      0.011     34.211      0.000       0.347       0.389\n",
      "cyclomatic                     0.0002      0.000      0.419      0.675      -0.001       0.001\n",
      "ncss                           0.0012      0.001      1.908      0.057   -3.52e-05       0.002\n",
      "npath                       3.627e-06    2.8e-05      0.129      0.897   -5.14e-05    5.87e-05\n",
      "cyc/length                    -0.0086      0.016     -0.530      0.596      -0.040       0.023\n",
      "ncss/length                   -0.0061      0.013     -0.483      0.629      -0.031       0.019\n",
      "npath/length                  -0.0008      0.001     -0.599      0.549      -0.003       0.002\n",
      "InstCoverage-missed         8.919e-05   8.86e-05      1.006      0.315   -8.48e-05       0.000\n",
      "InstCoverage-covered       -4.414e-05   2.13e-05     -2.069      0.039    -8.6e-05   -2.26e-06\n",
      "InstCoverage                   0.0039      0.011      0.355      0.723      -0.018       0.025\n",
      "surfaceIfs                    -0.0007      0.002     -0.307      0.759      -0.005       0.004\n",
      "nestedIfs                     -0.0002      0.002     -0.104      0.917      -0.004       0.004\n",
      "surfaceSwitches                0.0019      0.008      0.240      0.811      -0.014       0.018\n",
      "nestedSwitches                -0.0001      0.002     -0.062      0.951      -0.005       0.004\n",
      "surfaceFors                    0.0090      0.003      2.877      0.004       0.003       0.015\n",
      "nestedFors                     0.0067      0.003      2.284      0.023       0.001       0.012\n",
      "surfaceForEachs                0.0076      0.004      1.925      0.055      -0.000       0.015\n",
      "nestedForEachs                 0.0104      0.004      2.555      0.011       0.002       0.018\n",
      "surfaceWhiles                 -0.0067      0.005     -1.264      0.206      -0.017       0.004\n",
      "nestedWhiles                   0.0044      0.006      0.772      0.441      -0.007       0.016\n",
      "surfaceDos                    -0.0779      0.020     -3.985      0.000      -0.116      -0.040\n",
      "nestedDos                      0.0402      0.016      2.466      0.014       0.008       0.072\n",
      "iterativeStmts                -0.0064      0.003     -2.276      0.023      -0.012      -0.001\n",
      "conditionalStmts               0.0009      0.002      0.439      0.660      -0.003       0.005\n",
      "==============================================================================\n",
      "Omnibus:                      225.987   Durbin-Watson:                   1.965\n",
      "Prob(Omnibus):                  0.000   Jarque-Bera (JB):             1665.965\n",
      "Skew:                          -0.907   Prob(JB):                         0.00\n",
      "Kurtosis:                       9.320   Cond. No.                     1.43e+16\n",
      "==============================================================================\n",
      "\n",
      "Notes:\n",
      "[1] Standard Errors assume that the covariance matrix of the errors is correctly specified.\n",
      "[2] The smallest eigenvalue is 3.62e-25. This might indicate that there are\n",
      "strong multicollinearity problems or that the design matrix is singular.\n"
     ]
    }
   ],
   "source": [
    "p_value = calc_p_value(X, y)\n",
    "\n",
    "print(p_value.fit().summary())"
   ]
  },
  {
   "cell_type": "markdown",
   "id": "2bf49941-0026-4127-ab93-f5e08d99c8a9",
   "metadata": {},
   "source": [
    "#### P Value of X_train, y_train"
   ]
  },
  {
   "cell_type": "code",
   "execution_count": 25,
   "id": "4bc00501-d93f-4213-be8c-7b9c35819190",
   "metadata": {},
   "outputs": [
    {
     "name": "stdout",
     "output_type": "stream",
     "text": [
      "                            OLS Regression Results                            \n",
      "==============================================================================\n",
      "Dep. Variable:         PropLinePassed   R-squared:                       0.917\n",
      "Model:                            OLS   Adj. R-squared:                  0.912\n",
      "Method:                 Least Squares   F-statistic:                     181.4\n",
      "Date:                Wed, 07 Sep 2022   Prob (F-statistic):          1.06e-301\n",
      "Time:                        23:36:27   Log-Likelihood:                 1381.5\n",
      "No. Observations:                 647   AIC:                            -2687.\n",
      "Df Residuals:                     609   BIC:                            -2517.\n",
      "Df Model:                          37                                         \n",
      "Covariance Type:            nonrobust                                         \n",
      "==============================================================================================\n",
      "                                 coef    std err          t      P>|t|      [0.025      0.975]\n",
      "----------------------------------------------------------------------------------------------\n",
      "const                         -0.0019      0.016     -0.123      0.902      -0.033       0.029\n",
      "numLines                      -0.0004      0.000     -1.383      0.167      -0.001       0.000\n",
      "numStatements                 -0.0006      0.001     -0.910      0.363      -0.002       0.001\n",
      "EditDensity                   -0.0001   7.52e-05     -1.886      0.060      -0.000    5.89e-06\n",
      "AveUseDefDist                 -0.0001      0.000     -0.802      0.423      -0.000       0.000\n",
      "NotDeclared                   -0.0065      0.008     -0.843      0.399      -0.022       0.009\n",
      "AveUseDefDist/MethodLength     0.0097      0.008      1.142      0.254      -0.007       0.026\n",
      "MedDefUseDist                 -0.0003      0.000     -0.899      0.369      -0.001       0.000\n",
      "MedUseDefDist/MethodLength    -0.0079      0.012     -0.644      0.520      -0.032       0.016\n",
      "CountLine                      0.0002   4.02e-05      5.587      0.000       0.000       0.000\n",
      "CompiledLine                  -0.0128      0.001    -19.432      0.000      -0.014      -0.012\n",
      "PassedLine                     0.0254      0.001     31.594      0.000       0.024       0.027\n",
      "CountStat                      0.0002   4.02e-05      5.587      0.000       0.000       0.000\n",
      "CompiledStat                   0.0035      0.000     16.796      0.000       0.003       0.004\n",
      "PassedStat                    -0.0092      0.000    -29.228      0.000      -0.010      -0.009\n",
      "PropLineCompiled               0.5725      0.018     32.455      0.000       0.538       0.607\n",
      "PropStatCompiled              -0.1639      0.013    -12.187      0.000      -0.190      -0.138\n",
      "PropStatPassed                 0.3617      0.013     28.232      0.000       0.337       0.387\n",
      "cyclomatic                     0.0002      0.001      0.290      0.772      -0.001       0.001\n",
      "ncss                           0.0014      0.001      1.826      0.068      -0.000       0.003\n",
      "npath                       1.375e-08    4.5e-05      0.000      1.000   -8.83e-05    8.84e-05\n",
      "cyc/length                    -0.0031      0.019     -0.161      0.872      -0.041       0.035\n",
      "ncss/length                   -0.0289      0.015     -1.950      0.052      -0.058       0.000\n",
      "npath/length               -8.874e-05      0.002     -0.041      0.967      -0.004       0.004\n",
      "InstCoverage-missed         9.397e-05   9.82e-05      0.957      0.339   -9.89e-05       0.000\n",
      "InstCoverage-covered       -5.704e-05   2.24e-05     -2.549      0.011      -0.000   -1.31e-05\n",
      "InstCoverage                   0.0134      0.013      1.059      0.290      -0.011       0.038\n",
      "surfaceIfs                    -0.0017      0.003     -0.680      0.496      -0.007       0.003\n",
      "nestedIfs                     -0.0014      0.002     -0.571      0.569      -0.006       0.003\n",
      "surfaceSwitches                0.0055      0.009      0.596      0.551      -0.013       0.024\n",
      "nestedSwitches                -0.0011      0.003     -0.417      0.677      -0.006       0.004\n",
      "surfaceFors                    0.0097      0.004      2.208      0.028       0.001       0.018\n",
      "nestedFors                     0.0080      0.004      1.926      0.055      -0.000       0.016\n",
      "surfaceForEachs                0.0070      0.005      1.382      0.168      -0.003       0.017\n",
      "nestedForEachs                 0.0040      0.005      0.753      0.452      -0.006       0.014\n",
      "surfaceWhiles                  0.0002      0.006      0.038      0.969      -0.012       0.013\n",
      "nestedWhiles                  -0.0084      0.007     -1.138      0.256      -0.023       0.006\n",
      "surfaceDos                    -0.0453      0.027     -1.710      0.088      -0.097       0.007\n",
      "nestedDos                      0.0177      0.016      1.102      0.271      -0.014       0.049\n",
      "iterativeStmts                -0.0072      0.004     -1.748      0.081      -0.015       0.001\n",
      "conditionalStmts               0.0013      0.002      0.572      0.568      -0.003       0.006\n",
      "==============================================================================\n",
      "Omnibus:                       67.941   Durbin-Watson:                   2.047\n",
      "Prob(Omnibus):                  0.000   Jarque-Bera (JB):              440.928\n",
      "Skew:                           0.123   Prob(JB):                     1.79e-96\n",
      "Kurtosis:                       7.037   Cond. No.                     1.38e+16\n",
      "==============================================================================\n",
      "\n",
      "Notes:\n",
      "[1] Standard Errors assume that the covariance matrix of the errors is correctly specified.\n",
      "[2] The smallest eigenvalue is 1.79e-25. This might indicate that there are\n",
      "strong multicollinearity problems or that the design matrix is singular.\n"
     ]
    }
   ],
   "source": [
    "p_value = calc_p_value(X_train, y_train)\n",
    "\n",
    "print(p_value.fit().summary())"
   ]
  },
  {
   "cell_type": "code",
   "execution_count": 26,
   "id": "ec489f93-f919-448e-b7b2-25b1b5cbecf3",
   "metadata": {
    "tags": []
   },
   "outputs": [
    {
     "name": "stdout",
     "output_type": "stream",
     "text": [
      "PassedLine                    0.447120\n",
      "PropLineCompiled              0.444650\n",
      "PropStatPassed                0.022963\n",
      "CountLine                     0.017957\n",
      "CountStat                     0.015291\n",
      "CompiledStat                  0.006068\n",
      "CompiledLine                  0.004024\n",
      "MedUseDefDist/MethodLength    0.003466\n",
      "EditDensity                   0.003453\n",
      "ncss/length                   0.003298\n",
      "dtype: float64\n"
     ]
    },
    {
     "data": {
      "image/png": "[encoded data removed]",
      "text/plain": [
       "<Figure size 1584x720 with 1 Axes>"
      ]
     },
     "metadata": {},
     "output_type": "display_data"
    }
   ],
   "source": [
    "rforestreg = RandomForestRegressor()\n",
    "\n",
    "rforestreg.fit(X_train, y_train)\n",
    "\n",
    "feature_importances = pd.Series(rforestreg.feature_importances_, index=X.columns)\n",
    "\n",
    "top_10 = feature_importances.nlargest(10)\n",
    "\n",
    "bar_x = [i for i in range(len(top_10))]\n",
    "\n",
    "sns.set(rc = {'figure.figsize' : (22, 10)})\n",
    "\n",
    "ax = sns.barplot(x=bar_x, y=top_10)\n",
    "\n",
    "ax.set(xlabel='Top 10 Features', ylabel='Importance Score', title='Important Features with all predictors included', xticklabels=top_10.index)\n",
    "\n",
    "print(top_10)"
   ]
  },
  {
   "cell_type": "markdown",
   "id": "537feabe-ef39-48a5-8bbd-ea3a3865cba1",
   "metadata": {},
   "source": [
    "## 5. Feature Selection\n",
    "\n",
    "##### After getting the initial result with all features included, let's see what happens when we drop certain features, starting with PassedLine."
   ]
  },
  {
   "cell_type": "code",
   "execution_count": 28,
   "id": "8ba9cb96-de89-428a-9504-7994770eaa3b",
   "metadata": {
    "tags": []
   },
   "outputs": [
    {
     "name": "stdout",
     "output_type": "stream",
     "text": [
      "(647, 8)\n",
      "(278, 8)\n",
      "(647,)\n",
      "(278,)\n"
     ]
    }
   ],
   "source": [
    "# Building a model with just the metrics\n",
    "X = df_new[['ncss', 'cyclomatic', 'npath', 'AveUseDefDist', 'MedDefUseDist', 'cyc/length', 'ncss/length', 'npath/length']]\n",
    "\n",
    "y = df_new['PropLinePassed']\n",
    "\n",
    "X_train, X_test, y_train, y_test = train_test_split(X, y, \n",
    "                                            test_size=0.3, random_state=1)\n",
    "print(X_train.shape)\n",
    "\n",
    "print(X_test.shape)\n",
    "\n",
    "print(y_train.shape)\n",
    "\n",
    "print(y_test.shape)\n"
   ]
  },
  {
   "cell_type": "markdown",
   "id": "dccdc0e9-6af3-45c6-a39b-f69c948d033f",
   "metadata": {},
   "source": [
    "#### P Value of X, y"
   ]
  },
  {
   "cell_type": "code",
   "execution_count": 29,
   "id": "7e335637-80f6-4bef-bdda-8fb219d72426",
   "metadata": {},
   "outputs": [
    {
     "name": "stdout",
     "output_type": "stream",
     "text": [
      "                            OLS Regression Results                            \n",
      "==============================================================================\n",
      "Dep. Variable:         PropLinePassed   R-squared:                       0.073\n",
      "Model:                            OLS   Adj. R-squared:                  0.065\n",
      "Method:                 Least Squares   F-statistic:                     9.012\n",
      "Date:                Wed, 07 Sep 2022   Prob (F-statistic):           5.83e-12\n",
      "Time:                        23:36:48   Log-Likelihood:                 847.78\n",
      "No. Observations:                 925   AIC:                            -1678.\n",
      "Df Residuals:                     916   BIC:                            -1634.\n",
      "Df Model:                           8                                         \n",
      "Covariance Type:            nonrobust                                         \n",
      "=================================================================================\n",
      "                    coef    std err          t      P>|t|      [0.025      0.975]\n",
      "---------------------------------------------------------------------------------\n",
      "const             0.0432      0.019      2.239      0.025       0.005       0.081\n",
      "ncss              0.0012      0.000      3.107      0.002       0.000       0.002\n",
      "cyclomatic       -0.0029      0.001     -2.480      0.013      -0.005      -0.001\n",
      "npath          1.884e-05    7.9e-05      0.238      0.812      -0.000       0.000\n",
      "AveUseDefDist     0.0002      0.000      0.621      0.535      -0.000       0.001\n",
      "MedDefUseDist     0.0013      0.000      2.926      0.004       0.000       0.002\n",
      "cyc/length        0.0335      0.045      0.740      0.459      -0.055       0.122\n",
      "ncss/length       0.0821      0.028      2.887      0.004       0.026       0.138\n",
      "npath/length     -0.0023      0.004     -0.630      0.529      -0.009       0.005\n",
      "==============================================================================\n",
      "Omnibus:                      200.252   Durbin-Watson:                   1.750\n",
      "Prob(Omnibus):                  0.000   Jarque-Bera (JB):              437.037\n",
      "Skew:                           1.192   Prob(JB):                     1.25e-95\n",
      "Kurtosis:                       5.379   Cond. No.                     1.77e+03\n",
      "==============================================================================\n",
      "\n",
      "Notes:\n",
      "[1] Standard Errors assume that the covariance matrix of the errors is correctly specified.\n",
      "[2] The condition number is large, 1.77e+03. This might indicate that there are\n",
      "strong multicollinearity or other numerical problems.\n"
     ]
    }
   ],
   "source": [
    "p_value = calc_p_value(X, y)\n",
    "\n",
    "print(p_value.fit().summary())"
   ]
  },
  {
   "cell_type": "markdown",
   "id": "26b76a17-b30d-4f53-ac72-dc586a23642c",
   "metadata": {},
   "source": [
    "#### P Value of X_train, y_train"
   ]
  },
  {
   "cell_type": "code",
   "execution_count": 30,
   "id": "4d37d784-dcc8-47ff-b5a9-667afa1096e7",
   "metadata": {},
   "outputs": [
    {
     "name": "stdout",
     "output_type": "stream",
     "text": [
      "                            OLS Regression Results                            \n",
      "==============================================================================\n",
      "Dep. Variable:         PropLinePassed   R-squared:                       0.077\n",
      "Model:                            OLS   Adj. R-squared:                  0.065\n",
      "Method:                 Least Squares   F-statistic:                     6.633\n",
      "Date:                Wed, 07 Sep 2022   Prob (F-statistic):           2.39e-08\n",
      "Time:                        23:36:50   Log-Likelihood:                 602.92\n",
      "No. Observations:                 647   AIC:                            -1188.\n",
      "Df Residuals:                     638   BIC:                            -1148.\n",
      "Df Model:                           8                                         \n",
      "Covariance Type:            nonrobust                                         \n",
      "=================================================================================\n",
      "                    coef    std err          t      P>|t|      [0.025      0.975]\n",
      "---------------------------------------------------------------------------------\n",
      "const             0.0510      0.022      2.277      0.023       0.007       0.095\n",
      "ncss              0.0012      0.001      2.030      0.043    3.91e-05       0.002\n",
      "cyclomatic       -0.0024      0.002     -1.504      0.133      -0.006       0.001\n",
      "npath         -5.669e-05      0.000     -0.428      0.669      -0.000       0.000\n",
      "AveUseDefDist     0.0001      0.000      0.489      0.625      -0.000       0.001\n",
      "MedDefUseDist     0.0014      0.001      2.362      0.018       0.000       0.002\n",
      "cyc/length       -0.0017      0.060     -0.029      0.977      -0.119       0.115\n",
      "ncss/length       0.0732      0.035      2.118      0.035       0.005       0.141\n",
      "npath/length      0.0018      0.006      0.273      0.785      -0.011       0.014\n",
      "==============================================================================\n",
      "Omnibus:                      120.539   Durbin-Watson:                   1.940\n",
      "Prob(Omnibus):                  0.000   Jarque-Bera (JB):              224.974\n",
      "Skew:                           1.082   Prob(JB):                     1.40e-49\n",
      "Kurtosis:                       4.915   Cond. No.                     1.99e+03\n",
      "==============================================================================\n",
      "\n",
      "Notes:\n",
      "[1] Standard Errors assume that the covariance matrix of the errors is correctly specified.\n",
      "[2] The condition number is large, 1.99e+03. This might indicate that there are\n",
      "strong multicollinearity or other numerical problems.\n"
     ]
    }
   ],
   "source": [
    "p_value = calc_p_value(X_train, y_train)\n",
    "\n",
    "print(p_value.fit().summary())"
   ]
  },
  {
   "cell_type": "code",
   "execution_count": 31,
   "id": "c0fce190-35dc-4150-9d14-daa5ccdd0342",
   "metadata": {
    "tags": []
   },
   "outputs": [
    {
     "name": "stdout",
     "output_type": "stream",
     "text": [
      "ncss/length      0.183668\n",
      "AveUseDefDist    0.167932\n",
      "npath/length     0.140420\n",
      "cyc/length       0.126789\n",
      "ncss             0.122691\n",
      "MedDefUseDist    0.116851\n",
      "npath            0.075973\n",
      "cyclomatic       0.065677\n",
      "dtype: float64\n"
     ]
    },
    {
     "data": {
      "image/png": "[encoded data removed]",
      "text/plain": [
       "<Figure size 1584x720 with 1 Axes>"
      ]
     },
     "metadata": {},
     "output_type": "display_data"
    }
   ],
   "source": [
    "rforestreg = RandomForestRegressor()\n",
    "\n",
    "rforestreg.fit(X_train, y_train)\n",
    "\n",
    "feature_importances = pd.Series(rforestreg.feature_importances_, index=X.columns)\n",
    "\n",
    "top_10 = feature_importances.nlargest(10)\n",
    "\n",
    "bar_x = [i for i in range(len(top_10))]\n",
    "\n",
    "sns.set(rc = {'figure.figsize' : (22, 10)})\n",
    "\n",
    "ax = sns.barplot(x=bar_x, y=top_10)\n",
    "\n",
    "ax.set(xlabel='Top 10 Features', ylabel='Importance Score', title='Important Features with only Checkstyle Metrics', xticklabels=top_10.index)\n",
    "\n",
    "print(top_10)"
   ]
  },
  {
   "cell_type": "code",
   "execution_count": 32,
   "id": "17108101-2d1a-44df-a393-6a4f948cf67f",
   "metadata": {},
   "outputs": [
    {
     "name": "stdout",
     "output_type": "stream",
     "text": [
      "R2 Score: 0.03864\n",
      "Adj. R2: 0.03024\n",
      "RMSE: 0.01027\n",
      "MAE: 0.07570\n"
     ]
    }
   ],
   "source": [
    "y_pred = rforestreg.predict(X_test)\n",
    "\n",
    "r2 = r2_score(y_test, y_pred)\n",
    "\n",
    "adj_r2 = cacl_adj_r2(r2, len(y), X.shape[1])\n",
    "\n",
    "rmse = mean_squared_error(y_test, y_pred, squared=True)\n",
    "\n",
    "mae = mean_absolute_error(y_test, y_pred)\n",
    "\n",
    "print(f\"R2 Score: {r2:.5f}\\nAdj. R2: {adj_r2:.5f}\\nRMSE: {rmse:.5f}\\nMAE: {mae:.5f}\")"
   ]
  },
  {
   "cell_type": "code",
   "execution_count": 33,
   "id": "2812306d-23f1-41f4-9085-9f64e43382d4",
   "metadata": {
    "tags": []
   },
   "outputs": [
    {
     "name": "stdout",
     "output_type": "stream",
     "text": [
      "(647, 10)\n",
      "(278, 10)\n",
      "(647,)\n",
      "(278,)\n"
     ]
    }
   ],
   "source": [
    "# Building a model with just the metrics\n",
    "X = df_new[['surfaceFors', 'nestedFors', 'surfaceIfs', 'nestedIfs', 'surfaceWhiles', 'nestedWhiles', 'surfaceDos','nestedDos','surfaceSwitches','nestedSwitches']]\n",
    "\n",
    "\n",
    "y = df_new['PropLinePassed']\n",
    "\n",
    "X_train, X_test, y_train, y_test = train_test_split(X, y, \n",
    "                                            test_size=0.3, random_state=1)\n",
    "print(X_train.shape)\n",
    "\n",
    "print(X_test.shape)\n",
    "\n",
    "print(y_train.shape)\n",
    "\n",
    "print(y_test.shape)\n"
   ]
  },
  {
   "cell_type": "markdown",
   "id": "fcda73bc-2f95-4d44-a2ea-842879e46bd6",
   "metadata": {},
   "source": [
    "#### P Value of X, y"
   ]
  },
  {
   "cell_type": "code",
   "execution_count": 34,
   "id": "8b6e1533-c63a-41ff-b7fb-066b83cb8b89",
   "metadata": {},
   "outputs": [
    {
     "name": "stdout",
     "output_type": "stream",
     "text": [
      "                            OLS Regression Results                            \n",
      "==============================================================================\n",
      "Dep. Variable:         PropLinePassed   R-squared:                       0.059\n",
      "Model:                            OLS   Adj. R-squared:                  0.049\n",
      "Method:                 Least Squares   F-statistic:                     5.763\n",
      "Date:                Wed, 07 Sep 2022   Prob (F-statistic):           1.94e-08\n",
      "Time:                        23:36:58   Log-Likelihood:                 841.02\n",
      "No. Observations:                 925   AIC:                            -1660.\n",
      "Df Residuals:                     914   BIC:                            -1607.\n",
      "Df Model:                          10                                         \n",
      "Covariance Type:            nonrobust                                         \n",
      "===================================================================================\n",
      "                      coef    std err          t      P>|t|      [0.025      0.975]\n",
      "-----------------------------------------------------------------------------------\n",
      "const               0.1176      0.005     24.320      0.000       0.108       0.127\n",
      "surfaceFors        -0.0090      0.005     -1.812      0.070      -0.019       0.001\n",
      "nestedFors         -0.0056      0.003     -2.152      0.032      -0.011      -0.000\n",
      "surfaceIfs          0.0055      0.002      3.070      0.002       0.002       0.009\n",
      "nestedIfs           0.0030      0.001      3.109      0.002       0.001       0.005\n",
      "surfaceWhiles      -0.0168      0.015     -1.095      0.274      -0.047       0.013\n",
      "nestedWhiles       -0.0296      0.017     -1.761      0.079      -0.063       0.003\n",
      "surfaceDos         -0.0189      0.059     -0.318      0.751      -0.135       0.098\n",
      "nestedDos          -0.0532      0.052     -1.031      0.303      -0.154       0.048\n",
      "surfaceSwitches     0.0176      0.025      0.694      0.488      -0.032       0.067\n",
      "nestedSwitches      0.0133      0.004      3.394      0.001       0.006       0.021\n",
      "==============================================================================\n",
      "Omnibus:                      225.663   Durbin-Watson:                   1.815\n",
      "Prob(Omnibus):                  0.000   Jarque-Bera (JB):              553.381\n",
      "Skew:                           1.283   Prob(JB):                    6.84e-121\n",
      "Kurtosis:                       5.788   Cond. No.                         83.9\n",
      "==============================================================================\n",
      "\n",
      "Notes:\n",
      "[1] Standard Errors assume that the covariance matrix of the errors is correctly specified.\n"
     ]
    }
   ],
   "source": [
    "p_value = calc_p_value(X, y)\n",
    "\n",
    "print(p_value.fit().summary())"
   ]
  },
  {
   "cell_type": "markdown",
   "id": "7d6d6826-26d8-4f47-afb9-578700f9305f",
   "metadata": {},
   "source": [
    "#### P Value of X_train, y_train"
   ]
  },
  {
   "cell_type": "code",
   "execution_count": 35,
   "id": "9eff448a-fb81-44f6-b83b-aed936b99785",
   "metadata": {},
   "outputs": [
    {
     "name": "stdout",
     "output_type": "stream",
     "text": [
      "                            OLS Regression Results                            \n",
      "==============================================================================\n",
      "Dep. Variable:         PropLinePassed   R-squared:                       0.067\n",
      "Model:                            OLS   Adj. R-squared:                  0.052\n",
      "Method:                 Least Squares   F-statistic:                     4.574\n",
      "Date:                Wed, 07 Sep 2022   Prob (F-statistic):           2.74e-06\n",
      "Time:                        23:37:00   Log-Likelihood:                 599.54\n",
      "No. Observations:                 647   AIC:                            -1177.\n",
      "Df Residuals:                     636   BIC:                            -1128.\n",
      "Df Model:                          10                                         \n",
      "Covariance Type:            nonrobust                                         \n",
      "===================================================================================\n",
      "                      coef    std err          t      P>|t|      [0.025      0.975]\n",
      "-----------------------------------------------------------------------------------\n",
      "const               0.1125      0.006     19.393      0.000       0.101       0.124\n",
      "surfaceFors        -0.0033      0.006     -0.530      0.596      -0.015       0.009\n",
      "nestedFors         -0.0094      0.004     -2.598      0.010      -0.017      -0.002\n",
      "surfaceIfs          0.0087      0.002      4.044      0.000       0.004       0.013\n",
      "nestedIfs           0.0022      0.001      1.614      0.107      -0.000       0.005\n",
      "surfaceWhiles      -0.0066      0.018     -0.374      0.708      -0.041       0.028\n",
      "nestedWhiles       -0.0160      0.022     -0.724      0.469      -0.059       0.027\n",
      "surfaceDos         -0.0810      0.097     -0.836      0.403      -0.271       0.109\n",
      "nestedDos          -0.0811      0.057     -1.435      0.152      -0.192       0.030\n",
      "surfaceSwitches    -0.0299      0.032     -0.943      0.346      -0.092       0.032\n",
      "nestedSwitches      0.0118      0.004      2.740      0.006       0.003       0.020\n",
      "==============================================================================\n",
      "Omnibus:                      154.643   Durbin-Watson:                   1.967\n",
      "Prob(Omnibus):                  0.000   Jarque-Bera (JB):              358.920\n",
      "Skew:                           1.255   Prob(JB):                     1.15e-78\n",
      "Kurtosis:                       5.648   Cond. No.                         94.1\n",
      "==============================================================================\n",
      "\n",
      "Notes:\n",
      "[1] Standard Errors assume that the covariance matrix of the errors is correctly specified.\n"
     ]
    }
   ],
   "source": [
    "p_value = calc_p_value(X_train, y_train)\n",
    "\n",
    "print(p_value.fit().summary())"
   ]
  },
  {
   "cell_type": "code",
   "execution_count": 57,
   "id": "1398eb9f-4e3f-4f41-aa8c-926e35949e55",
   "metadata": {
    "tags": []
   },
   "outputs": [
    {
     "name": "stdout",
     "output_type": "stream",
     "text": [
      "AveUseDefDist    0.170279\n",
      "MedDefUseDist    0.163584\n",
      "ncss/length      0.152544\n",
      "cyc/length       0.145908\n",
      "npath/length     0.132806\n",
      "ncss             0.116988\n",
      "npath            0.064170\n",
      "cyclomatic       0.050956\n",
      "NotDeclared      0.002764\n",
      "dtype: float64\n"
     ]
    },
    {
     "data": {
      "image/png": "[encoded data removed]",
      "text/plain": [
       "<Figure size 1584x720 with 1 Axes>"
      ]
     },
     "metadata": {},
     "output_type": "display_data"
    }
   ],
   "source": [
    "rforestreg = RandomForestRegressor()\n",
    "\n",
    "rforestreg.fit(X_train, y_train)\n",
    "\n",
    "feature_importances = pd.Series(rforestreg.feature_importances_, index=X.columns)\n",
    "\n",
    "top_10 = feature_importances.nlargest(10)\n",
    "\n",
    "bar_x = [i for i in range(len(top_10))]\n",
    "\n",
    "sns.set(rc = {'figure.figsize' : (22, 10)})\n",
    "\n",
    "ax = sns.barplot(x=bar_x, y=top_10)\n",
    "\n",
    "ax.set(xlabel='Top 10 Features', ylabel='Importance Score', title='Important Features with only JavaParser Metrics', xticklabels=top_10.index)\n",
    "\n",
    "print(top_10)"
   ]
  },
  {
   "cell_type": "code",
   "execution_count": 37,
   "id": "ccb3f5d9-8297-4205-a288-13c81d767c9a",
   "metadata": {},
   "outputs": [
    {
     "name": "stdout",
     "output_type": "stream",
     "text": [
      "R2 Score: -0.07132\n",
      "Adj. R2: -0.08304\n",
      "RMSE: 0.01145\n",
      "MAE: 0.07875\n"
     ]
    }
   ],
   "source": [
    "y_pred = rforestreg.predict(X_test)\n",
    "\n",
    "r2 = r2_score(y_test, y_pred)\n",
    "\n",
    "adj_r2 = cacl_adj_r2(r2, len(y), X.shape[1])\n",
    "\n",
    "rmse = mean_squared_error(y_test, y_pred, squared=True)\n",
    "\n",
    "mae = mean_absolute_error(y_test, y_pred)\n",
    "\n",
    "print(f\"R2 Score: {r2:.5f}\\nAdj. R2: {adj_r2:.5f}\\nRMSE: {rmse:.5f}\\nMAE: {mae:.5f}\")"
   ]
  },
  {
   "cell_type": "markdown",
   "id": "aab68742-6ef9-431a-b300-a51fea9769a7",
   "metadata": {},
   "source": [
    "## 6.1 Model Evaluation for model with JavaParser Metrics Only"
   ]
  },
  {
   "cell_type": "markdown",
   "id": "30e88549-6dd7-4bda-beaf-4eee9a811af8",
   "metadata": {},
   "source": [
    "### 6.1.1 Ridge Regression without Tuning"
   ]
  },
  {
   "cell_type": "code",
   "execution_count": 38,
   "id": "27d67932-093d-48e5-b35a-de1907184cf8",
   "metadata": {
    "tags": []
   },
   "outputs": [
    {
     "name": "stdout",
     "output_type": "stream",
     "text": [
      "R2 Score: 0.00150\n",
      "Adj. R2: -0.00943\n",
      "RMSE: 0.01067\n",
      "MAE: 0.07606\n"
     ]
    }
   ],
   "source": [
    "X = df_new[['surfaceFors', 'nestedFors', 'surfaceIfs', 'nestedIfs', 'surfaceWhiles', 'nestedWhiles', 'surfaceDos','nestedDos','surfaceSwitches','nestedSwitches']]\n",
    "\n",
    "y = df_new['PropLinePassed']\n",
    "\n",
    "X_train, X_test, y_train, y_test = train_test_split(X, y, \n",
    "                                            test_size=0.3, random_state=1)\n",
    "ridge = Ridge() \n",
    "\n",
    "ridge.fit(X_train, y_train)\n",
    "\n",
    "y_pred = ridge.predict(X_test)\n",
    "\n",
    "r2 = r2_score(y_test, y_pred)\n",
    "\n",
    "adj_r2 = cacl_adj_r2(r2, len(y), X.shape[1])\n",
    "\n",
    "rmse = mean_squared_error(y_test, y_pred, squared=True)\n",
    "\n",
    "mae = mean_absolute_error(y_test, y_pred)\n",
    "\n",
    "print(f\"R2 Score: {r2:.5f}\\nAdj. R2: {adj_r2:.5f}\\nRMSE: {rmse:.5f}\\nMAE: {mae:.5f}\")\n"
   ]
  },
  {
   "cell_type": "markdown",
   "id": "78906725-6637-4b1a-8798-0d08eb33c8f1",
   "metadata": {},
   "source": [
    "### 6.1.2 Ridge Regression with Tuning"
   ]
  },
  {
   "cell_type": "code",
   "execution_count": 39,
   "id": "b0ff0a19-abe8-4010-8687-21327b7fa9f9",
   "metadata": {},
   "outputs": [
    {
     "name": "stdout",
     "output_type": "stream",
     "text": [
      "Best Score: -0.07297653003233133\n",
      "Best Hyperparameters: {'alpha': 85.67288231521668, 'fit_intercept': True, 'normalize': False, 'solver': 'cholesky'}\n",
      "{'alpha': 1.0, 'copy_X': True, 'fit_intercept': True, 'max_iter': None, 'normalize': 'deprecated', 'positive': False, 'random_state': None, 'solver': 'auto', 'tol': 0.001}\n"
     ]
    },
    {
     "name": "stderr",
     "output_type": "stream",
     "text": [
      "C:\\Users\\lj\\anaconda3\\lib\\site-packages\\sklearn\\linear_model\\_base.py:148: FutureWarning: 'normalize' was deprecated in version 1.0 and will be removed in 1.2. Please leave the normalize parameter to its default value to silence this warning. The default behavior of this estimator is to not do any normalization. If normalization is needed please use sklearn.preprocessing.StandardScaler instead.\n",
      "  warnings.warn(\n"
     ]
    }
   ],
   "source": [
    "X = df_new[['surfaceFors', 'nestedFors', 'surfaceIfs', 'nestedIfs', 'surfaceWhiles', 'nestedWhiles', 'surfaceDos','nestedDos','surfaceSwitches','nestedSwitches']]\n",
    "\n",
    "y = df_new['PropLinePassed']\n",
    "\n",
    "X_train, X_test, y_train, y_test = train_test_split(X, y, \n",
    "                                            test_size=0.3, random_state=1)\n",
    "ridge = Ridge()\n",
    "\n",
    "# Set up cross validation technique \n",
    "cv = RepeatedKFold(n_splits=10, n_repeats=3, random_state=1)\n",
    "\n",
    "# Create Search space\n",
    "space = dict()\n",
    "\n",
    "space['solver'] = ['svd', 'cholesky', 'lsqr', 'sag']\n",
    "\n",
    "space['alpha'] = loguniform(1e-5, 100)\n",
    "\n",
    "space['fit_intercept'] = [True, False]\n",
    "\n",
    "space['normalize'] = [True, False]\n",
    "\n",
    "# Define search\n",
    "search = RandomizedSearchCV(ridge, space, n_iter=800, scoring='neg_mean_absolute_error', n_jobs=-1, cv=cv, random_state=1)\n",
    "\n",
    "# Fit search\n",
    "result = search.fit(X_train, y_train)\n",
    "\n",
    "print('Best Score: %s' % result.best_score_)\n",
    "\n",
    "print('Best Hyperparameters: %s' % result.best_params_)\n",
    "\n",
    "print(ridge.get_params())"
   ]
  },
  {
   "cell_type": "code",
   "execution_count": 40,
   "id": "2b864485-e7e2-48ea-ae54-43cdc53134e1",
   "metadata": {},
   "outputs": [
    {
     "name": "stdout",
     "output_type": "stream",
     "text": [
      "R2 Score: 0.01124\n",
      "Adj. R2: 0.00042\n",
      "RMSE: 0.01056\n",
      "MAE: 0.07577\n"
     ]
    },
    {
     "name": "stderr",
     "output_type": "stream",
     "text": [
      "C:\\Users\\lj\\anaconda3\\lib\\site-packages\\sklearn\\linear_model\\_base.py:148: FutureWarning: 'normalize' was deprecated in version 1.0 and will be removed in 1.2. Please leave the normalize parameter to its default value to silence this warning. The default behavior of this estimator is to not do any normalization. If normalization is needed please use sklearn.preprocessing.StandardScaler instead.\n",
      "  warnings.warn(\n"
     ]
    }
   ],
   "source": [
    "ridge = Ridge(solver='cholesky', fit_intercept=True, normalize=False, alpha=85.67288231521668)\n",
    "\n",
    "ridge.fit(X_train, y_train)\n",
    "\n",
    "y_pred = ridge.predict(X_test)\n",
    "\n",
    "r2 = r2_score(y_test, y_pred)\n",
    "\n",
    "adj_r2 = cacl_adj_r2(r2, len(y), X.shape[1])\n",
    "\n",
    "rmse = mean_squared_error(y_test, y_pred, squared=True)\n",
    "\n",
    "mae = mean_absolute_error(y_test, y_pred)\n",
    "\n",
    "print(f\"R2 Score: {r2:.5f}\\nAdj. R2: {adj_r2:.5f}\\nRMSE: {rmse:.5f}\\nMAE: {mae:.5f}\")"
   ]
  },
  {
   "cell_type": "markdown",
   "id": "6b93fef8-fde2-495b-b6dc-c926dcce6416",
   "metadata": {},
   "source": [
    "### 6.2 KNN without Tuning"
   ]
  },
  {
   "cell_type": "code",
   "execution_count": 41,
   "id": "3f4bbee5-a620-4f3e-b8e8-c86324e6faef",
   "metadata": {},
   "outputs": [
    {
     "name": "stdout",
     "output_type": "stream",
     "text": [
      "R2 Score: -0.17456\n",
      "Adj. R2: -0.18741\n",
      "RMSE: 0.01255\n",
      "MAE: 0.08348\n"
     ]
    }
   ],
   "source": [
    "X = df_new[['surfaceFors', 'nestedFors', 'surfaceIfs', 'nestedIfs', 'surfaceWhiles', 'nestedWhiles', 'surfaceDos','nestedDos','surfaceSwitches','nestedSwitches']]\n",
    "\n",
    "y = df_new['PropLinePassed']\n",
    "\n",
    "X_train, X_test, y_train, y_test = train_test_split(X, y, \n",
    "                                            test_size=0.3, random_state=1)\n",
    "knnreg = KNeighborsRegressor()\n",
    "\n",
    "knnreg.fit(X_train, y_train)\n",
    "\n",
    "y_pred = knnreg.predict(X_test)\n",
    "\n",
    "r2 = r2_score(y_test, y_pred)\n",
    "\n",
    "adj_r2 = cacl_adj_r2(r2, len(y), X.shape[1])\n",
    "\n",
    "rmse = mean_squared_error(y_test, y_pred, squared=True)\n",
    "\n",
    "mae = mean_absolute_error(y_test, y_pred)\n",
    "\n",
    "print(f\"R2 Score: {r2:.5f}\\nAdj. R2: {adj_r2:.5f}\\nRMSE: {rmse:.5f}\\nMAE: {mae:.5f}\")"
   ]
  },
  {
   "cell_type": "markdown",
   "id": "f72d221d-3723-4c70-b539-13345f29f6f3",
   "metadata": {},
   "source": [
    "### 6.2.2 KNN with Tuning"
   ]
  },
  {
   "cell_type": "code",
   "execution_count": 42,
   "id": "25b55409-e8c7-4970-b964-a60920d0a8a0",
   "metadata": {},
   "outputs": [
    {
     "name": "stdout",
     "output_type": "stream",
     "text": [
      "Best Score: -0.07372860799189344\n",
      "Best Hyperparameters: {'weights': 'uniform', 'p': 3, 'n_neighbors': 20, 'leaf_size': 60, 'algorithm': 'kd_tree'}\n"
     ]
    }
   ],
   "source": [
    "X = df_new[['surfaceFors', 'nestedFors', 'surfaceIfs', 'nestedIfs', 'surfaceWhiles', 'nestedWhiles', 'surfaceDos','nestedDos','surfaceSwitches','nestedSwitches']]\n",
    "\n",
    "y = df_new['PropLinePassed']\n",
    "\n",
    "X_train, X_test, y_train, y_test = train_test_split(X, y, \n",
    "                                            test_size=0.3, random_state=1)\n",
    "knnreg = KNeighborsRegressor()\n",
    "\n",
    "# Set up cross validation technique \n",
    "cv = RepeatedKFold(n_splits=10, n_repeats=3, random_state=1)\n",
    "\n",
    "# Create Search space\n",
    "space = dict()\n",
    "\n",
    "space['algorithm'] = ['ball_tree', 'kd_tree', 'brute']\n",
    "\n",
    "space['n_neighbors'] = [2, 3, 5, 10, 12, 15, 20, 25, 30]\n",
    "\n",
    "space['weights'] = ['uniform', 'distance']\n",
    "\n",
    "space['leaf_size'] = [10, 30, 60, 80, 160, 320]\n",
    "\n",
    "space['p'] = [1, 2, 3]\n",
    "\n",
    "# Define search\n",
    "search = RandomizedSearchCV(knnreg, space, n_iter=800, scoring='neg_mean_absolute_error', n_jobs=-1, cv=cv, random_state=1)\n",
    "\n",
    "# Fit search\n",
    "result = search.fit(X_train, y_train)\n",
    "\n",
    "print('Best Score: %s' % result.best_score_)\n",
    "\n",
    "print('Best Hyperparameters: %s' % result.best_params_)"
   ]
  },
  {
   "cell_type": "code",
   "execution_count": 43,
   "id": "8f2a8e9c-7d03-4e4d-88ef-7880f0462c17",
   "metadata": {},
   "outputs": [
    {
     "name": "stdout",
     "output_type": "stream",
     "text": [
      "R2 Score: 0.01041\n",
      "Adj. R2: -0.00042\n",
      "RMSE: 0.01057\n",
      "MAE: 0.07609\n"
     ]
    }
   ],
   "source": [
    "knnreg = KNeighborsRegressor(n_neighbors=20, weights='uniform', p=3, leaf_size=60, algorithm='kd_tree')\n",
    "\n",
    "knnreg.fit(X_train, y_train)\n",
    "\n",
    "y_pred = knnreg.predict(X_test)\n",
    "\n",
    "r2 = r2_score(y_test, y_pred)\n",
    "    \n",
    "adj_r2 = cacl_adj_r2(r2, len(y), X.shape[1])\n",
    "\n",
    "rmse = mean_squared_error(y_test, y_pred, squared=True)\n",
    "\n",
    "mae = mean_absolute_error(y_test, y_pred)\n",
    "\n",
    "print(f\"R2 Score: {r2:.5f}\\nAdj. R2: {adj_r2:.5f}\\nRMSE: {rmse:.5f}\\nMAE: {mae:.5f}\")"
   ]
  },
  {
   "cell_type": "markdown",
   "id": "ac644b39-dfac-4ae6-8b54-fbc0ef458b3e",
   "metadata": {},
   "source": [
    "### 6.3.1 RandomForest without Tuning"
   ]
  },
  {
   "cell_type": "code",
   "execution_count": 44,
   "id": "71fae1e1-8e08-434f-bba1-7c43941102b8",
   "metadata": {
    "tags": []
   },
   "outputs": [
    {
     "name": "stdout",
     "output_type": "stream",
     "text": [
      "R2 Score: -0.09039\n",
      "Adj. R2: -0.10232\n",
      "RMSE: 0.01165\n",
      "MAE: 0.07938\n",
      "{'bootstrap': True, 'ccp_alpha': 0.0, 'criterion': 'squared_error', 'max_depth': None, 'max_features': 'auto', 'max_leaf_nodes': None, 'max_samples': None, 'min_impurity_decrease': 0.0, 'min_samples_leaf': 1, 'min_samples_split': 2, 'min_weight_fraction_leaf': 0.0, 'n_estimators': 100, 'n_jobs': None, 'oob_score': False, 'random_state': None, 'verbose': 0, 'warm_start': False}\n"
     ]
    }
   ],
   "source": [
    "X = df_new[['surfaceFors', 'nestedFors', 'surfaceIfs', 'nestedIfs', 'surfaceWhiles', 'nestedWhiles', 'surfaceDos','nestedDos','surfaceSwitches','nestedSwitches']]\n",
    "\n",
    "y = df_new['PropLinePassed']\n",
    "\n",
    "X_train, X_test, y_train, y_test = train_test_split(X, y, \n",
    "                                            test_size=0.3, random_state=1)\n",
    "rforestreg = RandomForestRegressor()\n",
    "\n",
    "rforestreg.fit(X_train, y_train)\n",
    "\n",
    "y_pred = rforestreg.predict(X_test)\n",
    "\n",
    "r2 = r2_score(y_test, y_pred)\n",
    "\n",
    "adj_r2 = cacl_adj_r2(r2, len(y), X.shape[1])\n",
    "\n",
    "rmse = mean_squared_error(y_test, y_pred, squared=True)\n",
    "\n",
    "mae = mean_absolute_error(y_test, y_pred)\n",
    "\n",
    "print(f\"R2 Score: {r2:.5f}\\nAdj. R2: {adj_r2:.5f}\\nRMSE: {rmse:.5f}\\nMAE: {mae:.5f}\")\n",
    "print(rforestreg.get_params())"
   ]
  },
  {
   "cell_type": "markdown",
   "id": "3ed0abca-48a0-4c62-80c2-578fbb7fb596",
   "metadata": {},
   "source": [
    "### 6.3.2 RandomForest with Tuning"
   ]
  },
  {
   "cell_type": "code",
   "execution_count": 47,
   "id": "e192e8e1-642b-4de3-9ad0-35d686780166",
   "metadata": {},
   "outputs": [
    {
     "name": "stdout",
     "output_type": "stream",
     "text": [
      "Best Score: -0.07337119898239258\n",
      "Best Hyperparameters: {'bootstrap': True, 'ccp_alpha': 0.00017114877263936507, 'n_estimators': 250, 'warm_start': True}\n"
     ]
    }
   ],
   "source": [
    "X = df_new[['surfaceFors', 'nestedFors', 'surfaceIfs', 'nestedIfs', 'surfaceWhiles', 'nestedWhiles', 'surfaceDos','nestedDos','surfaceSwitches','nestedSwitches']]\n",
    "\n",
    "y = df_new['PropLinePassed']\n",
    "\n",
    "X_train, X_test, y_train, y_test = train_test_split(X, y, \n",
    "                                            test_size=0.3, random_state=1)\n",
    "rforestreg = RandomForestRegressor()\n",
    "\n",
    "# Set up cross validation technique \n",
    "cv = RepeatedKFold(n_splits=10, n_repeats=3, random_state=1)\n",
    "\n",
    "# Create Search space\n",
    "space = dict()\n",
    "\n",
    "space['n_estimators'] = [100, 250, 300, 350, 400, 450, 500]\n",
    "\n",
    "space['bootstrap'] = [True, False]\n",
    "\n",
    "space['warm_start'] = [True, False]\n",
    "\n",
    "space['ccp_alpha'] = loguniform(1e-5, 100)\n",
    "\n",
    "# Define search\n",
    "search = RandomizedSearchCV(rforestreg, space, n_iter=800, scoring='neg_mean_absolute_error', n_jobs=-1, cv=cv, random_state=1)\n",
    "\n",
    "# Fit search\n",
    "result = search.fit(X_train, y_train)\n",
    "\n",
    "print('Best Score: %s' % result.best_score_)\n",
    "\n",
    "print('Best Hyperparameters: %s' % result.best_params_)\n"
   ]
  },
  {
   "cell_type": "code",
   "execution_count": 48,
   "id": "f6867c57-ef48-47fa-9736-9a6275934c7c",
   "metadata": {},
   "outputs": [
    {
     "name": "stdout",
     "output_type": "stream",
     "text": [
      "R2 Score: 0.00445\n",
      "Adj. R2: -0.00644\n",
      "RMSE: 0.01064\n",
      "MAE: 0.07617\n"
     ]
    }
   ],
   "source": [
    "rforestreg = RandomForestRegressor(n_estimators = 250, warm_start=True, bootstrap=True, ccp_alpha=0.00017114877263936507)\n",
    "\n",
    "rforestreg.fit(X_train, y_train)\n",
    "\n",
    "y_pred = rforestreg.predict(X_test)\n",
    "\n",
    "r2 = r2_score(y_test, y_pred)\n",
    "\n",
    "adj_r2 = cacl_adj_r2(r2, len(y), X.shape[1])\n",
    "\n",
    "rmse = mean_squared_error(y_test, y_pred, squared=True)\n",
    "\n",
    "mae = mean_absolute_error(y_test, y_pred)\n",
    "\n",
    "print(f\"R2 Score: {r2:.5f}\\nAdj. R2: {adj_r2:.5f}\\nRMSE: {rmse:.5f}\\nMAE: {mae:.5f}\")"
   ]
  },
  {
   "cell_type": "markdown",
   "id": "75afcd48-94be-46a6-9317-5ceaf02323a5",
   "metadata": {
    "tags": []
   },
   "source": [
    "### 6.4.1 MLPRegressor without Tuning"
   ]
  },
  {
   "cell_type": "code",
   "execution_count": 51,
   "id": "1cf138e6-9932-4e86-901a-70855f2a19ea",
   "metadata": {
    "tags": []
   },
   "outputs": [
    {
     "name": "stdout",
     "output_type": "stream",
     "text": [
      "R2 Score: -2.59974\n",
      "Adj. R2: -2.63515\n",
      "RMSE: 0.09549\n",
      "MAE: 0.19779\n"
     ]
    }
   ],
   "source": [
    "X = df_new[['ncss', 'cyclomatic', 'npath', 'AveUseDefDist', 'MedDefUseDist', 'cyc/length', 'ncss/length', 'npath/length', 'NotDeclared']]\n",
    "\n",
    "y = df_new['PropStatCompiled']\n",
    "\n",
    "X_train, X_test, y_train, y_test = train_test_split(X, y, \n",
    "                                            test_size=0.3, random_state=1)\n",
    "mlpreg = MLPRegressor(max_iter=5500)\n",
    "\n",
    "mlpreg.fit(X_train, y_train)\n",
    "\n",
    "y_pred = mlpreg.predict(X_test)\n",
    "\n",
    "r2 = r2_score(y_test, y_pred)\n",
    "\n",
    "adj_r2 = cacl_adj_r2(r2, len(y), X.shape[1])\n",
    "\n",
    "rmse = mean_squared_error(y_test, y_pred, squared=True)\n",
    "\n",
    "mae = mean_absolute_error(y_test, y_pred)\n",
    "\n",
    "print(f\"R2 Score: {r2:.5f}\\nAdj. R2: {adj_r2:.5f}\\nRMSE: {rmse:.5f}\\nMAE: {mae:.5f}\")"
   ]
  },
  {
   "cell_type": "markdown",
   "id": "f484928b-6e62-4a62-9a9f-3bafd5af43c8",
   "metadata": {},
   "source": [
    "### 6.4.2 MLPRegressor with Tuning"
   ]
  },
  {
   "cell_type": "code",
   "execution_count": 49,
   "id": "2d9913fb-536d-48a6-a26d-85de3dc93121",
   "metadata": {},
   "outputs": [
    {
     "name": "stdout",
     "output_type": "stream",
     "text": [
      "Random Search Best Score: -0.12255271915822442\n",
      "Random Search Best Hyperparameters: {'activation': 'tanh', 'alpha': 0.48777805499545607, 'hidden_layer_sizes': (50, 100, 50), 'learning_rate': 'constant', 'solver': 'adam'}\n"
     ]
    }
   ],
   "source": [
    "X = df_new[['ncss', 'cyclomatic', 'npath', 'AveUseDefDist', 'MedDefUseDist', 'cyc/length', 'ncss/length', 'npath/length', 'NotDeclared']]\n",
    "\n",
    "y = df_new['PropStatCompiled']\n",
    "\n",
    "X_train, X_test, y_train, y_test = train_test_split(X, y, \n",
    "                                            test_size=0.3, random_state=1)\n",
    "mlpreg = MLPRegressor(max_iter=5500)\n",
    "\n",
    "# Set up cross validation technique \n",
    "cv = RepeatedKFold(n_splits=10, n_repeats=3, random_state=1)\n",
    "\n",
    "# Create Search space\n",
    "space = dict()\n",
    "\n",
    "space['hidden_layer_sizes'] = [(50,50,50), (50,100,50), (100,1), (100, 50, 1)]\n",
    "\n",
    "space['activation'] = ['relu', 'tanh', 'logistic']\n",
    "\n",
    "space['alpha'] = loguniform(1e-5, 100)\n",
    "\n",
    "space['learning_rate'] = ['constant', 'adaptive']\n",
    "\n",
    "space['solver'] = ['adam', 'lbfgs']\n",
    "\n",
    "# Define search\n",
    "random_search = RandomizedSearchCV(mlpreg, space, n_iter=10, scoring='neg_mean_absolute_error', n_jobs=-1, cv=cv, random_state=1)\n",
    "\n",
    "# Fit search\n",
    "random_search_result = random_search.fit(X_train, y_train)\n",
    "                     \n",
    "print('Random Search Best Score: %s' % random_search_result.best_score_)\n",
    "\n",
    "print('Random Search Best Hyperparameters: %s' % random_search_result.best_params_)\n"
   ]
  },
  {
   "cell_type": "code",
   "execution_count": 53,
   "id": "9303ccb6-7190-4235-bf5a-321a87e619dc",
   "metadata": {},
   "outputs": [
    {
     "name": "stdout",
     "output_type": "stream",
     "text": [
      "R2 Score: 0.04713\n",
      "Adj. R2: 0.03776\n",
      "RMSE: 0.02528\n",
      "MAE: 0.12380\n"
     ]
    },
    {
     "name": "stderr",
     "output_type": "stream",
     "text": [
      "C:\\Users\\lj\\anaconda3\\lib\\site-packages\\sklearn\\neural_network\\_multilayer_perceptron.py:692: ConvergenceWarning: Stochastic Optimizer: Maximum iterations (200) reached and the optimization hasn't converged yet.\n",
      "  warnings.warn(\n"
     ]
    }
   ],
   "source": [
    "mlpreg = MLPRegressor(activation='tanh', alpha=0.48777805499545607, hidden_layer_sizes=(50, 100, 50), learning_rate='constant', solver='adam')\n",
    "\n",
    "mlpreg.fit(X_train, y_train)\n",
    "\n",
    "y_pred = mlpreg.predict(X_test)\n",
    "\n",
    "r2 = r2_score(y_test, y_pred)\n",
    "\n",
    "adj_r2 = cacl_adj_r2(r2, len(y), X.shape[1])\n",
    "\n",
    "rmse = mean_squared_error(y_test, y_pred, squared=True)\n",
    "\n",
    "mae = mean_absolute_error(y_test, y_pred)\n",
    "\n",
    "print(f\"R2 Score: {r2:.5f}\\nAdj. R2: {adj_r2:.5f}\\nRMSE: {rmse:.5f}\\nMAE: {mae:.5f}\")"
   ]
  },
  {
   "cell_type": "code",
   "execution_count": null,
   "id": "669b4a70-04c3-405d-a679-301e74099bf8",
   "metadata": {},
   "outputs": [],
   "source": []
  }
 ],
 "metadata": {
  "kernelspec": {
   "display_name": "Python 3 (ipykernel)",
   "language": "python",
   "name": "python3"
  },
  "language_info": {
   "codemirror_mode": {
    "name": "ipython",
    "version": 3
   },
   "file_extension": ".py",
   "mimetype": "text/x-python",
   "name": "python",
   "nbconvert_exporter": "python",
   "pygments_lexer": "ipython3",
   "version": "3.9.12"
  }
 },
 "nbformat": 4,
 "nbformat_minor": 5
}
