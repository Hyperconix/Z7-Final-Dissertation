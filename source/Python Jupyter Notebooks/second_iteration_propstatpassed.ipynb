{
 "cells": [
  {
   "cell_type": "markdown",
   "id": "4c1b66f8-80e6-451b-aea4-f58109c39452",
   "metadata": {},
   "source": [
    "# Automated Software Improvement: A Machine Learning Solution\n",
    "## Second Iteration - Prop Stat Passed\n",
    "### 2727141 Luke Skinner\n",
    "### Supervisor: Dr Sandy Brownlee"
   ]
  },
  {
   "cell_type": "markdown",
   "id": "c2a99459-edda-44e4-9c8a-348b9cf4735d",
   "metadata": {},
   "source": [
    "## Overview\n",
    "\n",
    "These notebooks contain all the work performed on the second iteration of the Machine Learning model(s) to help guide automated improvement of Software. The dataset provided for this iteration is \"merged_stats_sb_17112020_iter2.csv\" which is an aggregate of experimental results of edits performed on open source projects. This will include the second cycle of building an effective model. This cycle involved exploring Feature Construction, which used a tool called JavaParser, which allows the ability to parse and intrepret Java Source Files as a tree. This was used to create simple metrics, such as the number of nested if statements in a method. These were then used as new features to attempt to build a predictive model."
   ]
  },
  {
   "cell_type": "markdown",
   "id": "9184648e-e89e-4a1c-9e7b-59711cf78a1b",
   "metadata": {
    "tags": []
   },
   "source": [
    "#### Imports"
   ]
  },
  {
   "cell_type": "code",
   "execution_count": 1,
   "id": "a4c20c5d-a778-4ee4-8232-93e070df68b1",
   "metadata": {},
   "outputs": [],
   "source": [
    "import seaborn as sns \n",
    "import pandas as pd\n",
    "from sklearn.metrics import r2_score, mean_squared_error, mean_absolute_error\n",
    "from sklearn.ensemble import RandomForestRegressor \n",
    "from sklearn.linear_model import LinearRegression\n",
    "from sklearn.linear_model import Ridge\n",
    "from sklearn.neighbors import KNeighborsRegressor\n",
    "from sklearn.model_selection import train_test_split, RepeatedKFold, GridSearchCV, RandomizedSearchCV\n",
    "from sklearn.neural_network import MLPRegressor\n",
    "import numpy as np\n",
    "import matplotlib as plt\n",
    "from scipy.stats import loguniform\n",
    "import statsmodels.api as sma"
   ]
  },
  {
   "cell_type": "markdown",
   "id": "6a11034d-0464-4869-b2a3-46b85f3771c1",
   "metadata": {
    "tags": []
   },
   "source": [
    "#### Utility Functions"
   ]
  },
  {
   "cell_type": "code",
   "execution_count": 2,
   "id": "e693d54f-31b4-4217-a542-9d795df061f3",
   "metadata": {},
   "outputs": [],
   "source": [
    "def cacl_adj_r2(r2, n, k):\n",
    "    \"\"\"\n",
    "    Calculates the adjusted r2 score based on the following formula:\n",
    "    Adjusted r2 = 1 - (1 - r2) * (n - 1) / (n - k - 1). This is used to\n",
    "    complement the original r2 score to give a better understanding of\n",
    "    how the model explains variance of the predictor variables\n",
    "\n",
    "    Parameters:\n",
    "        r2 (float): The original r2 score (from sklearn)\n",
    "        n (int): The number of observations\n",
    "        k (int): The number of predictor variables\n",
    "\n",
    "    Returns:\n",
    "        adj_r2 (float): The adjusted r2 score \n",
    "    \"\"\"\n",
    "    return 1 - (1 - r2) * (n - 1) / (n - k - 1)\n",
    "\n",
    "def calc_p_value(X, y):\n",
    "    X2 = sma.add_constant(X)\n",
    "    \n",
    "    return sma.OLS(y, X2)\n",
    "    "
   ]
  },
  {
   "cell_type": "markdown",
   "id": "0f9a0066-f1c4-40e6-bf26-cdcb6a526b60",
   "metadata": {
    "tags": []
   },
   "source": [
    "#### Load Dataset"
   ]
  },
  {
   "cell_type": "code",
   "execution_count": 3,
   "id": "db923707-9b25-443d-8ba7-1f118df0e944",
   "metadata": {},
   "outputs": [],
   "source": [
    "df = pd.read_csv('data/merged_stats_sb_17112020_iter2.csv')"
   ]
  },
  {
   "cell_type": "markdown",
   "id": "2e4d45cf-d880-46c5-bf4e-b1e6d44aa4c2",
   "metadata": {},
   "source": [
    "## Proposed Model with JavaParser Metrics 2 - Proportion Stat Passed\n",
    "## 1. Data Visualisation"
   ]
  },
  {
   "cell_type": "code",
   "execution_count": 4,
   "id": "22c836ee-092e-411f-8c68-2b6bd7058668",
   "metadata": {},
   "outputs": [
    {
     "data": {
      "text/plain": [
       "MethodIndex                   0.217208\n",
       "numLines                     -0.042901\n",
       "numStatements                -0.038476\n",
       "EditDensity                   0.025152\n",
       "AveUseDefDist                 0.001108\n",
       "NotDeclared                   0.046960\n",
       "AveUseDefDist/MethodLength    0.043212\n",
       "MedDefUseDist                -0.001371\n",
       "MedUseDefDist/MethodLength    0.043978\n",
       "CountLine                     0.012774\n",
       "CompiledLine                  0.058006\n",
       "PassedLine                    0.116268\n",
       "CountStat                     0.012774\n",
       "CompiledStat                  0.066687\n",
       "PassedStat                    0.126357\n",
       "PropLineCompiled              0.358018\n",
       "PropLinePassed                0.563709\n",
       "PropStatCompiled              0.754484\n",
       "cyclomatic                   -0.028330\n",
       "ncss                         -0.037633\n",
       "npath                        -0.062924\n",
       "cyc/length                    0.087491\n",
       "ncss/length                  -0.045963\n",
       "npath/length                 -0.068836\n",
       "InstCoverage-missed           0.028304\n",
       "InstCoverage-covered         -0.101943\n",
       "InstCoverage                 -0.108703\n",
       "surfaceIfs                    0.032338\n",
       "nestedIfs                    -0.018420\n",
       "surfaceSwitches               0.040635\n",
       "nestedSwitches                0.039534\n",
       "surfaceFors                  -0.184142\n",
       "nestedFors                   -0.086747\n",
       "surfaceForEachs               0.003005\n",
       "nestedForEachs                0.005992\n",
       "surfaceWhiles                -0.060496\n",
       "nestedWhiles                 -0.029476\n",
       "surfaceDos                   -0.009070\n",
       "nestedDos                    -0.054334\n",
       "iterativeStmts               -0.137317\n",
       "conditionalStmts              0.009302\n",
       "dtype: float64"
      ]
     },
     "execution_count": 4,
     "metadata": {},
     "output_type": "execute_result"
    }
   ],
   "source": [
    "df.corrwith(df['PropStatPassed']).drop('PropStatPassed')"
   ]
  },
  {
   "cell_type": "markdown",
   "id": "1cd4494e-55a7-491c-b1bd-8d5a823ee6f1",
   "metadata": {},
   "source": [
    "## 2. Data Preparation"
   ]
  },
  {
   "cell_type": "code",
   "execution_count": 5,
   "id": "bb21ace0-f787-479f-8901-16b6b19ed7bc",
   "metadata": {
    "tags": []
   },
   "outputs": [
    {
     "name": "stdout",
     "output_type": "stream",
     "text": [
      "<class 'pandas.core.frame.DataFrame'>\n",
      "RangeIndex: 2157 entries, 0 to 2156\n",
      "Data columns (total 41 columns):\n",
      " #   Column                      Non-Null Count  Dtype  \n",
      "---  ------                      --------------  -----  \n",
      " 0   numLines                    2157 non-null   int64  \n",
      " 1   numStatements               2157 non-null   int64  \n",
      " 2   EditDensity                 2157 non-null   float64\n",
      " 3   AveUseDefDist               2157 non-null   float64\n",
      " 4   NotDeclared                 2157 non-null   int64  \n",
      " 5   AveUseDefDist/MethodLength  2157 non-null   float64\n",
      " 6   MedDefUseDist               2157 non-null   float64\n",
      " 7   MedUseDefDist/MethodLength  2157 non-null   float64\n",
      " 8   CountLine                   2157 non-null   int64  \n",
      " 9   CompiledLine                2157 non-null   int64  \n",
      " 10  PassedLine                  2157 non-null   int64  \n",
      " 11  CountStat                   2157 non-null   int64  \n",
      " 12  CompiledStat                2157 non-null   int64  \n",
      " 13  PassedStat                  2157 non-null   int64  \n",
      " 14  PropLineCompiled            2157 non-null   float64\n",
      " 15  PropLinePassed              2157 non-null   float64\n",
      " 16  PropStatCompiled            2157 non-null   float64\n",
      " 17  PropStatPassed              2157 non-null   float64\n",
      " 18  cyclomatic                  2157 non-null   int64  \n",
      " 19  ncss                        2157 non-null   int64  \n",
      " 20  npath                       2157 non-null   int64  \n",
      " 21  cyc/length                  2157 non-null   float64\n",
      " 22  ncss/length                 2157 non-null   float64\n",
      " 23  npath/length                2157 non-null   float64\n",
      " 24  InstCoverage-missed         2157 non-null   int64  \n",
      " 25  InstCoverage-covered        2157 non-null   int64  \n",
      " 26  InstCoverage                2157 non-null   float64\n",
      " 27  surfaceIfs                  2157 non-null   int64  \n",
      " 28  nestedIfs                   2157 non-null   int64  \n",
      " 29  surfaceSwitches             2157 non-null   int64  \n",
      " 30  nestedSwitches              2157 non-null   int64  \n",
      " 31  surfaceFors                 2157 non-null   int64  \n",
      " 32  nestedFors                  2157 non-null   int64  \n",
      " 33  surfaceForEachs             2157 non-null   int64  \n",
      " 34  nestedForEachs              2157 non-null   int64  \n",
      " 35  surfaceWhiles               2157 non-null   int64  \n",
      " 36  nestedWhiles                2157 non-null   int64  \n",
      " 37  surfaceDos                  2157 non-null   int64  \n",
      " 38  nestedDos                   2157 non-null   int64  \n",
      " 39  iterativeStmts              2157 non-null   int64  \n",
      " 40  conditionalStmts            2157 non-null   int64  \n",
      "dtypes: float64(13), int64(28)\n",
      "memory usage: 691.0 KB\n",
      "<class 'pandas.core.frame.DataFrame'>\n",
      "Int64Index: 925 entries, 1 to 2156\n",
      "Data columns (total 41 columns):\n",
      " #   Column                      Non-Null Count  Dtype  \n",
      "---  ------                      --------------  -----  \n",
      " 0   numLines                    925 non-null    int64  \n",
      " 1   numStatements               925 non-null    int64  \n",
      " 2   EditDensity                 925 non-null    float64\n",
      " 3   AveUseDefDist               925 non-null    float64\n",
      " 4   NotDeclared                 925 non-null    int64  \n",
      " 5   AveUseDefDist/MethodLength  925 non-null    float64\n",
      " 6   MedDefUseDist               925 non-null    float64\n",
      " 7   MedUseDefDist/MethodLength  925 non-null    float64\n",
      " 8   CountLine                   925 non-null    int64  \n",
      " 9   CompiledLine                925 non-null    int64  \n",
      " 10  PassedLine                  925 non-null    int64  \n",
      " 11  CountStat                   925 non-null    int64  \n",
      " 12  CompiledStat                925 non-null    int64  \n",
      " 13  PassedStat                  925 non-null    int64  \n",
      " 14  PropLineCompiled            925 non-null    float64\n",
      " 15  PropLinePassed              925 non-null    float64\n",
      " 16  PropStatCompiled            925 non-null    float64\n",
      " 17  PropStatPassed              925 non-null    float64\n",
      " 18  cyclomatic                  925 non-null    int64  \n",
      " 19  ncss                        925 non-null    int64  \n",
      " 20  npath                       925 non-null    int64  \n",
      " 21  cyc/length                  925 non-null    float64\n",
      " 22  ncss/length                 925 non-null    float64\n",
      " 23  npath/length                925 non-null    float64\n",
      " 24  InstCoverage-missed         925 non-null    int64  \n",
      " 25  InstCoverage-covered        925 non-null    int64  \n",
      " 26  InstCoverage                925 non-null    float64\n",
      " 27  surfaceIfs                  925 non-null    int64  \n",
      " 28  nestedIfs                   925 non-null    int64  \n",
      " 29  surfaceSwitches             925 non-null    int64  \n",
      " 30  nestedSwitches              925 non-null    int64  \n",
      " 31  surfaceFors                 925 non-null    int64  \n",
      " 32  nestedFors                  925 non-null    int64  \n",
      " 33  surfaceForEachs             925 non-null    int64  \n",
      " 34  nestedForEachs              925 non-null    int64  \n",
      " 35  surfaceWhiles               925 non-null    int64  \n",
      " 36  nestedWhiles                925 non-null    int64  \n",
      " 37  surfaceDos                  925 non-null    int64  \n",
      " 38  nestedDos                   925 non-null    int64  \n",
      " 39  iterativeStmts              925 non-null    int64  \n",
      " 40  conditionalStmts            925 non-null    int64  \n",
      "dtypes: float64(13), int64(28)\n",
      "memory usage: 303.5 KB\n"
     ]
    }
   ],
   "source": [
    "# Lets remove the non numerical fields as they are not useful for the model\n",
    "df_new = df.drop(['CompositeKey', 'Project', 'MethodName', 'MethodIndex'], axis=1)\n",
    "\n",
    "df_new.info() \n",
    "\n",
    "# We will filter out all rows which have a numLines < 10, we also want to only look at rows with sensible npath & avedefdistuse values\n",
    "df_new = df_new[(df_new.numLines > 10) & (df.npath > -1)]\n",
    "\n",
    "df_new.info()"
   ]
  },
  {
   "cell_type": "markdown",
   "id": "00a989e8-d3e2-483c-9acb-75d97ded4326",
   "metadata": {},
   "source": [
    "## 3. Beginning Train/Test split\n",
    "\n",
    "##### We now want to identify the features which are most important, we will start by looking at all the other fields with respect to the target. First we will split the data 70%/30%."
   ]
  },
  {
   "cell_type": "code",
   "execution_count": null,
   "id": "57baad57-85a6-45da-879d-180c52ea7f82",
   "metadata": {},
   "outputs": [],
   "source": [
    "X = df_new.drop(['PropStatPassed'], axis=1)\n",
    "\n",
    "y = df_new['PropStatPassed']\n",
    "\n",
    "X_train, X_test, y_train, y_test = train_test_split(X, y, \n",
    "                                            test_size=0.3, random_state=1)\n",
    "print(X_train.shape)\n",
    "\n",
    "print(X_test.shape)\n",
    "\n",
    "print(y_train.shape)\n",
    "\n",
    "print(y_test.shape)"
   ]
  },
  {
   "cell_type": "markdown",
   "id": "af19eb00-77a4-4a47-b454-6c96573516e5",
   "metadata": {},
   "source": [
    "## 4. Feature Importances at a glance\n",
    "\n",
    "##### To get the feature importances, we will first start by fitting an overall RandomForest model on the data and seeing what it produces as feature importances. This will not be the final model."
   ]
  },
  {
   "cell_type": "markdown",
   "id": "03119ad3-2561-4842-8cb2-433f05dfd4ca",
   "metadata": {},
   "source": [
    "#### P Value of X, y\n",
    "\n",
    "Let's take a look at some statistics, particurlary focusing on the P value. If it is less than 0.05 then we can reject the null hypothesis"
   ]
  },
  {
   "cell_type": "code",
   "execution_count": 12,
   "id": "4fa7017c-6b26-462a-900e-31ba9938c5fe",
   "metadata": {},
   "outputs": [
    {
     "name": "stdout",
     "output_type": "stream",
     "text": [
      "                            OLS Regression Results                            \n",
      "==============================================================================\n",
      "Dep. Variable:         PropLinePassed   R-squared:                       0.902\n",
      "Model:                            OLS   Adj. R-squared:                  0.898\n",
      "Method:                 Least Squares   F-statistic:                     220.0\n",
      "Date:                Sun, 03 Apr 2022   Prob (F-statistic):               0.00\n",
      "Time:                        08:24:00   Log-Likelihood:                 1885.7\n",
      "No. Observations:                 925   AIC:                            -3695.\n",
      "Df Residuals:                     887   BIC:                            -3512.\n",
      "Df Model:                          37                                         \n",
      "Covariance Type:            nonrobust                                         \n",
      "==============================================================================================\n",
      "                                 coef    std err          t      P>|t|      [0.025      0.975]\n",
      "----------------------------------------------------------------------------------------------\n",
      "const                          0.0003      0.014      0.023      0.982      -0.028       0.028\n",
      "numLines                      -0.0001      0.000     -0.583      0.560      -0.001       0.000\n",
      "numStatements                 -0.0008      0.001     -1.413      0.158      -0.002       0.000\n",
      "EditDensity                -2.614e-05   6.45e-05     -0.405      0.685      -0.000       0.000\n",
      "AveUseDefDist              -8.785e-05      0.000     -0.508      0.611      -0.000       0.000\n",
      "NotDeclared                   -0.0078      0.007     -1.136      0.256      -0.021       0.006\n",
      "AveUseDefDist/MethodLength     0.0068      0.009      0.775      0.439      -0.010       0.024\n",
      "MedDefUseDist                 -0.0004      0.000     -1.373      0.170      -0.001       0.000\n",
      "MedUseDefDist/MethodLength    -0.0005      0.011     -0.044      0.965      -0.022       0.021\n",
      "CountLine                   8.715e-05   2.45e-05      3.563      0.000    3.91e-05       0.000\n",
      "CompiledLine                  -0.0117      0.001    -22.413      0.000      -0.013      -0.011\n",
      "PassedLine                     0.0218      0.001     32.582      0.000       0.020       0.023\n",
      "CountStat                   8.715e-05   2.45e-05      3.563      0.000    3.91e-05       0.000\n",
      "CompiledStat                   0.0037      0.000     21.240      0.000       0.003       0.004\n",
      "PassedStat                    -0.0080      0.000    -31.414      0.000      -0.008      -0.007\n",
      "PropLineCompiled               0.6172      0.015     40.718      0.000       0.587       0.647\n",
      "PropStatCompiled              -0.2101      0.011    -18.381      0.000      -0.233      -0.188\n",
      "PropStatPassed                 0.3677      0.011     34.211      0.000       0.347       0.389\n",
      "cyclomatic                     0.0002      0.000      0.419      0.675      -0.001       0.001\n",
      "ncss                           0.0012      0.001      1.908      0.057   -3.52e-05       0.002\n",
      "npath                       3.627e-06    2.8e-05      0.129      0.897   -5.14e-05    5.87e-05\n",
      "cyc/length                    -0.0086      0.016     -0.530      0.596      -0.040       0.023\n",
      "ncss/length                   -0.0061      0.013     -0.483      0.629      -0.031       0.019\n",
      "npath/length                  -0.0008      0.001     -0.599      0.549      -0.003       0.002\n",
      "InstCoverage-missed         8.919e-05   8.86e-05      1.006      0.315   -8.48e-05       0.000\n",
      "InstCoverage-covered       -4.414e-05   2.13e-05     -2.069      0.039    -8.6e-05   -2.26e-06\n",
      "InstCoverage                   0.0039      0.011      0.355      0.723      -0.018       0.025\n",
      "surfaceIfs                    -0.0007      0.002     -0.307      0.759      -0.005       0.004\n",
      "nestedIfs                     -0.0002      0.002     -0.104      0.917      -0.004       0.004\n",
      "surfaceSwitches                0.0019      0.008      0.240      0.811      -0.014       0.018\n",
      "nestedSwitches                -0.0001      0.002     -0.062      0.951      -0.005       0.004\n",
      "surfaceFors                    0.0090      0.003      2.877      0.004       0.003       0.015\n",
      "nestedFors                     0.0067      0.003      2.284      0.023       0.001       0.012\n",
      "surfaceForEachs                0.0076      0.004      1.925      0.055      -0.000       0.015\n",
      "nestedForEachs                 0.0104      0.004      2.555      0.011       0.002       0.018\n",
      "surfaceWhiles                 -0.0067      0.005     -1.264      0.206      -0.017       0.004\n",
      "nestedWhiles                   0.0044      0.006      0.772      0.441      -0.007       0.016\n",
      "surfaceDos                    -0.0779      0.020     -3.985      0.000      -0.116      -0.040\n",
      "nestedDos                      0.0402      0.016      2.466      0.014       0.008       0.072\n",
      "iterativeStmts                -0.0064      0.003     -2.276      0.023      -0.012      -0.001\n",
      "conditionalStmts               0.0009      0.002      0.439      0.660      -0.003       0.005\n",
      "==============================================================================\n",
      "Omnibus:                      225.987   Durbin-Watson:                   1.965\n",
      "Prob(Omnibus):                  0.000   Jarque-Bera (JB):             1665.965\n",
      "Skew:                          -0.907   Prob(JB):                         0.00\n",
      "Kurtosis:                       9.320   Cond. No.                     1.43e+16\n",
      "==============================================================================\n",
      "\n",
      "Notes:\n",
      "[1] Standard Errors assume that the covariance matrix of the errors is correctly specified.\n",
      "[2] The smallest eigenvalue is 3.62e-25. This might indicate that there are\n",
      "strong multicollinearity problems or that the design matrix is singular.\n"
     ]
    }
   ],
   "source": [
    "p_value = calc_p_value(X, y)\n",
    "\n",
    "print(p_value.fit().summary())"
   ]
  },
  {
   "cell_type": "markdown",
   "id": "2bf49941-0026-4127-ab93-f5e08d99c8a9",
   "metadata": {},
   "source": [
    "#### P Value of X_train, y_train"
   ]
  },
  {
   "cell_type": "code",
   "execution_count": 13,
   "id": "4bc00501-d93f-4213-be8c-7b9c35819190",
   "metadata": {},
   "outputs": [
    {
     "name": "stdout",
     "output_type": "stream",
     "text": [
      "                            OLS Regression Results                            \n",
      "==============================================================================\n",
      "Dep. Variable:         PropLinePassed   R-squared:                       0.917\n",
      "Model:                            OLS   Adj. R-squared:                  0.912\n",
      "Method:                 Least Squares   F-statistic:                     181.4\n",
      "Date:                Sun, 03 Apr 2022   Prob (F-statistic):          1.06e-301\n",
      "Time:                        08:27:19   Log-Likelihood:                 1381.5\n",
      "No. Observations:                 647   AIC:                            -2687.\n",
      "Df Residuals:                     609   BIC:                            -2517.\n",
      "Df Model:                          37                                         \n",
      "Covariance Type:            nonrobust                                         \n",
      "==============================================================================================\n",
      "                                 coef    std err          t      P>|t|      [0.025      0.975]\n",
      "----------------------------------------------------------------------------------------------\n",
      "const                         -0.0019      0.016     -0.123      0.902      -0.033       0.029\n",
      "numLines                      -0.0004      0.000     -1.383      0.167      -0.001       0.000\n",
      "numStatements                 -0.0006      0.001     -0.910      0.363      -0.002       0.001\n",
      "EditDensity                   -0.0001   7.52e-05     -1.886      0.060      -0.000    5.89e-06\n",
      "AveUseDefDist                 -0.0001      0.000     -0.802      0.423      -0.000       0.000\n",
      "NotDeclared                   -0.0065      0.008     -0.843      0.399      -0.022       0.009\n",
      "AveUseDefDist/MethodLength     0.0097      0.008      1.142      0.254      -0.007       0.026\n",
      "MedDefUseDist                 -0.0003      0.000     -0.899      0.369      -0.001       0.000\n",
      "MedUseDefDist/MethodLength    -0.0079      0.012     -0.644      0.520      -0.032       0.016\n",
      "CountLine                      0.0002   4.02e-05      5.587      0.000       0.000       0.000\n",
      "CompiledLine                  -0.0128      0.001    -19.432      0.000      -0.014      -0.012\n",
      "PassedLine                     0.0254      0.001     31.594      0.000       0.024       0.027\n",
      "CountStat                      0.0002   4.02e-05      5.587      0.000       0.000       0.000\n",
      "CompiledStat                   0.0035      0.000     16.796      0.000       0.003       0.004\n",
      "PassedStat                    -0.0092      0.000    -29.228      0.000      -0.010      -0.009\n",
      "PropLineCompiled               0.5725      0.018     32.455      0.000       0.538       0.607\n",
      "PropStatCompiled              -0.1639      0.013    -12.187      0.000      -0.190      -0.138\n",
      "PropStatPassed                 0.3617      0.013     28.232      0.000       0.337       0.387\n",
      "cyclomatic                     0.0002      0.001      0.290      0.772      -0.001       0.001\n",
      "ncss                           0.0014      0.001      1.826      0.068      -0.000       0.003\n",
      "npath                       1.375e-08    4.5e-05      0.000      1.000   -8.83e-05    8.84e-05\n",
      "cyc/length                    -0.0031      0.019     -0.161      0.872      -0.041       0.035\n",
      "ncss/length                   -0.0289      0.015     -1.950      0.052      -0.058       0.000\n",
      "npath/length               -8.874e-05      0.002     -0.041      0.967      -0.004       0.004\n",
      "InstCoverage-missed         9.397e-05   9.82e-05      0.957      0.339   -9.89e-05       0.000\n",
      "InstCoverage-covered       -5.704e-05   2.24e-05     -2.549      0.011      -0.000   -1.31e-05\n",
      "InstCoverage                   0.0134      0.013      1.059      0.290      -0.011       0.038\n",
      "surfaceIfs                    -0.0017      0.003     -0.680      0.496      -0.007       0.003\n",
      "nestedIfs                     -0.0014      0.002     -0.571      0.569      -0.006       0.003\n",
      "surfaceSwitches                0.0055      0.009      0.596      0.551      -0.013       0.024\n",
      "nestedSwitches                -0.0011      0.003     -0.417      0.677      -0.006       0.004\n",
      "surfaceFors                    0.0097      0.004      2.208      0.028       0.001       0.018\n",
      "nestedFors                     0.0080      0.004      1.926      0.055      -0.000       0.016\n",
      "surfaceForEachs                0.0070      0.005      1.382      0.168      -0.003       0.017\n",
      "nestedForEachs                 0.0040      0.005      0.753      0.452      -0.006       0.014\n",
      "surfaceWhiles                  0.0002      0.006      0.038      0.969      -0.012       0.013\n",
      "nestedWhiles                  -0.0084      0.007     -1.138      0.256      -0.023       0.006\n",
      "surfaceDos                    -0.0453      0.027     -1.710      0.088      -0.097       0.007\n",
      "nestedDos                      0.0177      0.016      1.102      0.271      -0.014       0.049\n",
      "iterativeStmts                -0.0072      0.004     -1.748      0.081      -0.015       0.001\n",
      "conditionalStmts               0.0013      0.002      0.572      0.568      -0.003       0.006\n",
      "==============================================================================\n",
      "Omnibus:                       67.941   Durbin-Watson:                   2.047\n",
      "Prob(Omnibus):                  0.000   Jarque-Bera (JB):              440.928\n",
      "Skew:                           0.123   Prob(JB):                     1.79e-96\n",
      "Kurtosis:                       7.037   Cond. No.                     1.38e+16\n",
      "==============================================================================\n",
      "\n",
      "Notes:\n",
      "[1] Standard Errors assume that the covariance matrix of the errors is correctly specified.\n",
      "[2] The smallest eigenvalue is 1.79e-25. This might indicate that there are\n",
      "strong multicollinearity problems or that the design matrix is singular.\n"
     ]
    }
   ],
   "source": [
    "p_value = calc_p_value(X_train, y_train)\n",
    "\n",
    "print(p_value.fit().summary())"
   ]
  },
  {
   "cell_type": "code",
   "execution_count": 14,
   "id": "ec489f93-f919-448e-b7b2-25b1b5cbecf3",
   "metadata": {
    "tags": []
   },
   "outputs": [
    {
     "name": "stdout",
     "output_type": "stream",
     "text": [
      "PassedLine                    0.466784\n",
      "PropLineCompiled              0.426183\n",
      "PropStatPassed                0.020392\n",
      "CountLine                     0.019150\n",
      "CountStat                     0.017225\n",
      "CompiledStat                  0.005553\n",
      "EditDensity                   0.003677\n",
      "AveUseDefDist/MethodLength    0.003152\n",
      "ncss/length                   0.003095\n",
      "PropStatCompiled              0.003081\n",
      "dtype: float64\n"
     ]
    },
    {
     "data": {
      "image/png": "[encoded data removed]",
      "text/plain": [
       "<Figure size 1584x720 with 1 Axes>"
      ]
     },
     "metadata": {},
     "output_type": "display_data"
    }
   ],
   "source": [
    "rforestreg = RandomForestRegressor()\n",
    "\n",
    "rforestreg.fit(X_train, y_train)\n",
    "\n",
    "feature_importances = pd.Series(rforestreg.feature_importances_, index=X.columns)\n",
    "\n",
    "top_10 = feature_importances.nlargest(10)\n",
    "\n",
    "bar_x = [i for i in range(len(top_10))]\n",
    "\n",
    "sns.set(rc = {'figure.figsize' : (22, 10)})\n",
    "\n",
    "ax = sns.barplot(x=bar_x, y=top_10)\n",
    "\n",
    "ax.set(xlabel='Top 10 Features', ylabel='Importance Score', title='Important Features with all predictors included', xticklabels=top_10.index)\n",
    "\n",
    "print(top_10)"
   ]
  },
  {
   "cell_type": "markdown",
   "id": "537feabe-ef39-48a5-8bbd-ea3a3865cba1",
   "metadata": {},
   "source": [
    "## 5. Feature Selection\n",
    "\n",
    "##### After getting the initial result with all features included, let's see what happens when we drop certain features, starting with PassedLine."
   ]
  },
  {
   "cell_type": "code",
   "execution_count": 22,
   "id": "8ba9cb96-de89-428a-9504-7994770eaa3b",
   "metadata": {
    "tags": []
   },
   "outputs": [
    {
     "name": "stdout",
     "output_type": "stream",
     "text": [
      "(647, 14)\n",
      "(278, 14)\n",
      "(647,)\n",
      "(278,)\n"
     ]
    }
   ],
   "source": [
    "# Building a model with just the metrics\n",
    "X = df_new[['ncss', 'cyclomatic', 'npath', 'AveUseDefDist', 'MedDefUseDist', 'cyc/length', 'ncss/length', 'npath/length']]\n",
    "\n",
    "y = df_new['PropStatPassed']\n",
    "\n",
    "X_train, X_test, y_train, y_test = train_test_split(X, y, \n",
    "                                            test_size=0.3, random_state=1)\n",
    "print(X_train.shape)\n",
    "\n",
    "print(X_test.shape)\n",
    "\n",
    "print(y_train.shape)\n",
    "\n",
    "print(y_test.shape)\n"
   ]
  },
  {
   "cell_type": "markdown",
   "id": "dccdc0e9-6af3-45c6-a39b-f69c948d033f",
   "metadata": {},
   "source": [
    "#### P Value of X, y"
   ]
  },
  {
   "cell_type": "code",
   "execution_count": 23,
   "id": "7e335637-80f6-4bef-bdda-8fb219d72426",
   "metadata": {},
   "outputs": [
    {
     "name": "stdout",
     "output_type": "stream",
     "text": [
      "                            OLS Regression Results                            \n",
      "==============================================================================\n",
      "Dep. Variable:         PropLinePassed   R-squared:                       0.099\n",
      "Model:                            OLS   Adj. R-squared:                  0.085\n",
      "Method:                 Least Squares   F-statistic:                     7.130\n",
      "Date:                Mon, 04 Apr 2022   Prob (F-statistic):           3.70e-14\n",
      "Time:                        10:58:44   Log-Likelihood:                 860.88\n",
      "No. Observations:                 925   AIC:                            -1692.\n",
      "Df Residuals:                     910   BIC:                            -1619.\n",
      "Df Model:                          14                                         \n",
      "Covariance Type:            nonrobust                                         \n",
      "=================================================================================\n",
      "                    coef    std err          t      P>|t|      [0.025      0.975]\n",
      "---------------------------------------------------------------------------------\n",
      "const             0.0428      0.019      2.202      0.028       0.005       0.081\n",
      "ncss              0.0011      0.000      2.843      0.005       0.000       0.002\n",
      "cyclomatic       -0.0028      0.001     -2.154      0.032      -0.005      -0.000\n",
      "npath         -7.397e-06   8.18e-05     -0.090      0.928      -0.000       0.000\n",
      "AveUseDefDist     0.0002      0.000      0.639      0.523      -0.000       0.001\n",
      "MedDefUseDist     0.0008      0.000      1.729      0.084      -0.000       0.002\n",
      "cyc/length        0.0109      0.046      0.239      0.811      -0.079       0.100\n",
      "ncss/length       0.0973      0.029      3.403      0.001       0.041       0.153\n",
      "npath/length     -0.0013      0.004     -0.350      0.726      -0.009       0.006\n",
      "surfaceFors      -0.0121      0.005     -2.471      0.014      -0.022      -0.002\n",
      "nestedFors       -0.0056      0.003     -1.998      0.046      -0.011   -9.91e-05\n",
      "surfaceIfs        0.0038      0.002      1.784      0.075      -0.000       0.008\n",
      "nestedIfs         0.0018      0.002      1.169      0.243      -0.001       0.005\n",
      "surfaceWhiles    -0.0169      0.015     -1.127      0.260      -0.046       0.013\n",
      "nestedWhiles     -0.0290      0.016     -1.758      0.079      -0.061       0.003\n",
      "==============================================================================\n",
      "Omnibus:                      199.443   Durbin-Watson:                   1.794\n",
      "Prob(Omnibus):                  0.000   Jarque-Bera (JB):              445.845\n",
      "Skew:                           1.176   Prob(JB):                     1.53e-97\n",
      "Kurtosis:                       5.457   Cond. No.                     1.80e+03\n",
      "==============================================================================\n",
      "\n",
      "Notes:\n",
      "[1] Standard Errors assume that the covariance matrix of the errors is correctly specified.\n",
      "[2] The condition number is large, 1.8e+03. This might indicate that there are\n",
      "strong multicollinearity or other numerical problems.\n"
     ]
    }
   ],
   "source": [
    "p_value = calc_p_value(X, y)\n",
    "\n",
    "print(p_value.fit().summary())"
   ]
  },
  {
   "cell_type": "markdown",
   "id": "26b76a17-b30d-4f53-ac72-dc586a23642c",
   "metadata": {},
   "source": [
    "#### P Value of X_train, y_train"
   ]
  },
  {
   "cell_type": "code",
   "execution_count": 24,
   "id": "4d37d784-dcc8-47ff-b5a9-667afa1096e7",
   "metadata": {},
   "outputs": [
    {
     "name": "stdout",
     "output_type": "stream",
     "text": [
      "                            OLS Regression Results                            \n",
      "==============================================================================\n",
      "Dep. Variable:         PropLinePassed   R-squared:                       0.105\n",
      "Model:                            OLS   Adj. R-squared:                  0.085\n",
      "Method:                 Least Squares   F-statistic:                     5.279\n",
      "Date:                Mon, 04 Apr 2022   Prob (F-statistic):           1.53e-09\n",
      "Time:                        10:59:04   Log-Likelihood:                 612.85\n",
      "No. Observations:                 647   AIC:                            -1196.\n",
      "Df Residuals:                     632   BIC:                            -1129.\n",
      "Df Model:                          14                                         \n",
      "Covariance Type:            nonrobust                                         \n",
      "=================================================================================\n",
      "                    coef    std err          t      P>|t|      [0.025      0.975]\n",
      "---------------------------------------------------------------------------------\n",
      "const             0.0482      0.022      2.146      0.032       0.004       0.092\n",
      "ncss              0.0011      0.001      1.846      0.065   -6.97e-05       0.002\n",
      "cyclomatic       -0.0027      0.002     -1.612      0.107      -0.006       0.001\n",
      "npath          -1.21e-05      0.000     -0.087      0.931      -0.000       0.000\n",
      "AveUseDefDist  8.112e-05      0.000      0.315      0.753      -0.000       0.001\n",
      "MedDefUseDist     0.0009      0.001      1.515      0.130      -0.000       0.002\n",
      "cyc/length       -0.0048      0.059     -0.080      0.936      -0.121       0.112\n",
      "ncss/length       0.0843      0.035      2.432      0.015       0.016       0.152\n",
      "npath/length     -0.0008      0.007     -0.120      0.904      -0.014       0.012\n",
      "surfaceFors      -0.0072      0.006     -1.176      0.240      -0.019       0.005\n",
      "nestedFors       -0.0089      0.004     -2.426      0.016      -0.016      -0.002\n",
      "surfaceIfs        0.0064      0.003      2.467      0.014       0.001       0.012\n",
      "nestedIfs         0.0017      0.002      0.873      0.383      -0.002       0.005\n",
      "surfaceWhiles    -0.0054      0.017     -0.312      0.755      -0.040       0.029\n",
      "nestedWhiles     -0.0206      0.022     -0.940      0.348      -0.064       0.022\n",
      "==============================================================================\n",
      "Omnibus:                      121.036   Durbin-Watson:                   1.962\n",
      "Prob(Omnibus):                  0.000   Jarque-Bera (JB):              231.549\n",
      "Skew:                           1.073   Prob(JB):                     5.25e-51\n",
      "Kurtosis:                       4.995   Cond. No.                     2.00e+03\n",
      "==============================================================================\n",
      "\n",
      "Notes:\n",
      "[1] Standard Errors assume that the covariance matrix of the errors is correctly specified.\n",
      "[2] The condition number is large,  2e+03. This might indicate that there are\n",
      "strong multicollinearity or other numerical problems.\n"
     ]
    }
   ],
   "source": [
    "p_value = calc_p_value(X_train, y_train)\n",
    "\n",
    "print(p_value.fit().summary())"
   ]
  },
  {
   "cell_type": "code",
   "execution_count": 25,
   "id": "c0fce190-35dc-4150-9d14-daa5ccdd0342",
   "metadata": {
    "tags": []
   },
   "outputs": [
    {
     "name": "stdout",
     "output_type": "stream",
     "text": [
      "ncss/length      0.171532\n",
      "cyc/length       0.143981\n",
      "AveUseDefDist    0.133129\n",
      "npath/length     0.106433\n",
      "ncss             0.100769\n",
      "MedDefUseDist    0.086363\n",
      "nestedIfs        0.047383\n",
      "surfaceIfs       0.047335\n",
      "npath            0.047204\n",
      "cyclomatic       0.042275\n",
      "dtype: float64\n"
     ]
    },
    {
     "data": {
      "image/png": "[encoded data removed]",
      "text/plain": [
       "<Figure size 1584x720 with 1 Axes>"
      ]
     },
     "metadata": {},
     "output_type": "display_data"
    }
   ],
   "source": [
    "rforestreg = RandomForestRegressor()\n",
    "\n",
    "rforestreg.fit(X_train, y_train)\n",
    "\n",
    "feature_importances = pd.Series(rforestreg.feature_importances_, index=X.columns)\n",
    "\n",
    "top_10 = feature_importances.nlargest(10)\n",
    "\n",
    "bar_x = [i for i in range(len(top_10))]\n",
    "\n",
    "sns.set(rc = {'figure.figsize' : (22, 10)})\n",
    "\n",
    "ax = sns.barplot(x=bar_x, y=top_10)\n",
    "\n",
    "ax.set(xlabel='Top 10 Features', ylabel='Importance Score', title='Important Features with only Checkstyle Metrics', xticklabels=top_10.index)\n",
    "\n",
    "print(top_10)"
   ]
  },
  {
   "cell_type": "code",
   "execution_count": 26,
   "id": "17108101-2d1a-44df-a393-6a4f948cf67f",
   "metadata": {},
   "outputs": [
    {
     "name": "stdout",
     "output_type": "stream",
     "text": [
      "R2 Score: 0.05984\n",
      "Adj. R2: 0.04493\n",
      "RMSE: 0.02471\n",
      "MAE: 0.12432\n"
     ]
    }
   ],
   "source": [
    "y_pred = rforestreg.predict(X_test)\n",
    "\n",
    "r2 = r2_score(y_test, y_pred)\n",
    "\n",
    "adj_r2 = cacl_adj_r2(r2, len(y), X.shape[1])\n",
    "\n",
    "rmse = mean_squared_error(y_test, y_pred, squared=True)\n",
    "\n",
    "mae = mean_absolute_error(y_test, y_pred)\n",
    "\n",
    "print(f\"R2 Score: {r2:.5f}\\nAdj. R2: {adj_r2:.5f}\\nRMSE: {rmse:.5f}\\nMAE: {mae:.5f}\")"
   ]
  },
  {
   "cell_type": "code",
   "execution_count": 25,
   "id": "2812306d-23f1-41f4-9085-9f64e43382d4",
   "metadata": {
    "tags": []
   },
   "outputs": [
    {
     "name": "stdout",
     "output_type": "stream",
     "text": [
      "(647, 6)\n",
      "(278, 6)\n",
      "(647,)\n",
      "(278,)\n"
     ]
    }
   ],
   "source": [
    "# Building a model with just the metrics\n",
    "X = df_new[['surfaceFors', 'nestedFors', 'surfaceIfs', 'nestedIfs', 'surfaceWhiles', 'nestedWhiles', 'surfaceDos','nestedDos','surfaceSwitches','nestedSwitches']]\n",
    "\n",
    "\n",
    "y = df_new['PropStatPassed']\n",
    "\n",
    "X_train, X_test, y_train, y_test = train_test_split(X, y, \n",
    "                                            test_size=0.3, random_state=1)\n",
    "print(X_train.shape)\n",
    "\n",
    "print(X_test.shape)\n",
    "\n",
    "print(y_train.shape)\n",
    "\n",
    "print(y_test.shape)\n"
   ]
  },
  {
   "cell_type": "markdown",
   "id": "fcda73bc-2f95-4d44-a2ea-842879e46bd6",
   "metadata": {},
   "source": [
    "#### P Value of X, y"
   ]
  },
  {
   "cell_type": "code",
   "execution_count": 26,
   "id": "8b6e1533-c63a-41ff-b7fb-066b83cb8b89",
   "metadata": {},
   "outputs": [
    {
     "name": "stdout",
     "output_type": "stream",
     "text": [
      "                            OLS Regression Results                            \n",
      "==============================================================================\n",
      "Dep. Variable:         PropLinePassed   R-squared:                       0.044\n",
      "Model:                            OLS   Adj. R-squared:                  0.038\n",
      "Method:                 Least Squares   F-statistic:                     7.051\n",
      "Date:                Mon, 04 Apr 2022   Prob (F-statistic):           2.36e-07\n",
      "Time:                        10:59:27   Log-Likelihood:                 833.58\n",
      "No. Observations:                 925   AIC:                            -1653.\n",
      "Df Residuals:                     918   BIC:                            -1619.\n",
      "Df Model:                           6                                         \n",
      "Covariance Type:            nonrobust                                         \n",
      "=================================================================================\n",
      "                    coef    std err          t      P>|t|      [0.025      0.975]\n",
      "---------------------------------------------------------------------------------\n",
      "const             0.1196      0.005     24.993      0.000       0.110       0.129\n",
      "surfaceFors      -0.0094      0.005     -1.895      0.058      -0.019       0.000\n",
      "nestedFors       -0.0060      0.003     -2.285      0.023      -0.011      -0.001\n",
      "surfaceIfs        0.0056      0.002      3.148      0.002       0.002       0.009\n",
      "nestedIfs         0.0035      0.001      3.697      0.000       0.002       0.005\n",
      "surfaceWhiles    -0.0127      0.015     -0.826      0.409      -0.043       0.017\n",
      "nestedWhiles     -0.0308      0.017     -1.822      0.069      -0.064       0.002\n",
      "==============================================================================\n",
      "Omnibus:                      240.349   Durbin-Watson:                   1.789\n",
      "Prob(Omnibus):                  0.000   Jarque-Bera (JB):              632.100\n",
      "Skew:                           1.335   Prob(JB):                    5.51e-138\n",
      "Kurtosis:                       6.045   Cond. No.                         23.1\n",
      "==============================================================================\n",
      "\n",
      "Notes:\n",
      "[1] Standard Errors assume that the covariance matrix of the errors is correctly specified.\n"
     ]
    }
   ],
   "source": [
    "p_value = calc_p_value(X, y)\n",
    "\n",
    "print(p_value.fit().summary())"
   ]
  },
  {
   "cell_type": "markdown",
   "id": "7d6d6826-26d8-4f47-afb9-578700f9305f",
   "metadata": {},
   "source": [
    "#### P Value of X_train, y_train"
   ]
  },
  {
   "cell_type": "code",
   "execution_count": 27,
   "id": "9eff448a-fb81-44f6-b83b-aed936b99785",
   "metadata": {},
   "outputs": [
    {
     "name": "stdout",
     "output_type": "stream",
     "text": [
      "                            OLS Regression Results                            \n",
      "==============================================================================\n",
      "Dep. Variable:         PropLinePassed   R-squared:                       0.052\n",
      "Model:                            OLS   Adj. R-squared:                  0.044\n",
      "Method:                 Least Squares   F-statistic:                     5.907\n",
      "Date:                Mon, 04 Apr 2022   Prob (F-statistic):           5.14e-06\n",
      "Time:                        10:59:42   Log-Likelihood:                 594.51\n",
      "No. Observations:                 647   AIC:                            -1175.\n",
      "Df Residuals:                     640   BIC:                            -1144.\n",
      "Df Model:                           6                                         \n",
      "Covariance Type:            nonrobust                                         \n",
      "=================================================================================\n",
      "                    coef    std err          t      P>|t|      [0.025      0.975]\n",
      "---------------------------------------------------------------------------------\n",
      "const             0.1129      0.006     19.655      0.000       0.102       0.124\n",
      "surfaceFors      -0.0034      0.006     -0.565      0.573      -0.015       0.009\n",
      "nestedFors       -0.0099      0.004     -2.706      0.007      -0.017      -0.003\n",
      "surfaceIfs        0.0090      0.002      4.156      0.000       0.005       0.013\n",
      "nestedIfs         0.0029      0.001      2.124      0.034       0.000       0.006\n",
      "surfaceWhiles    -0.0005      0.018     -0.029      0.977      -0.035       0.034\n",
      "nestedWhiles     -0.0166      0.022     -0.745      0.457      -0.060       0.027\n",
      "==============================================================================\n",
      "Omnibus:                      153.509   Durbin-Watson:                   1.984\n",
      "Prob(Omnibus):                  0.000   Jarque-Bera (JB):              349.533\n",
      "Skew:                           1.255   Prob(JB):                     1.26e-76\n",
      "Kurtosis:                       5.582   Cond. No.                         21.7\n",
      "==============================================================================\n",
      "\n",
      "Notes:\n",
      "[1] Standard Errors assume that the covariance matrix of the errors is correctly specified.\n"
     ]
    }
   ],
   "source": [
    "p_value = calc_p_value(X_train, y_train)\n",
    "\n",
    "print(p_value.fit().summary())"
   ]
  },
  {
   "cell_type": "code",
   "execution_count": 13,
   "id": "1398eb9f-4e3f-4f41-aa8c-926e35949e55",
   "metadata": {
    "tags": []
   },
   "outputs": [
    {
     "name": "stdout",
     "output_type": "stream",
     "text": [
      "nestedIfs        0.339826\n",
      "surfaceIfs       0.256124\n",
      "surfaceFors      0.190286\n",
      "nestedFors       0.147556\n",
      "surfaceWhiles    0.037462\n",
      "nestedWhiles     0.028745\n",
      "dtype: float64\n"
     ]
    },
    {
     "data": {
      "image/png": "[encoded data removed]",
      "text/plain": [
       "<Figure size 1584x720 with 1 Axes>"
      ]
     },
     "metadata": {},
     "output_type": "display_data"
    }
   ],
   "source": [
    "rforestreg = RandomForestRegressor()\n",
    "\n",
    "rforestreg.fit(X_train, y_train)\n",
    "\n",
    "feature_importances = pd.Series(rforestreg.feature_importances_, index=X.columns)\n",
    "\n",
    "top_10 = feature_importances.nlargest(10)\n",
    "\n",
    "bar_x = [i for i in range(len(top_10))]\n",
    "\n",
    "sns.set(rc = {'figure.figsize' : (22, 10)})\n",
    "\n",
    "ax = sns.barplot(x=bar_x, y=top_10)\n",
    "\n",
    "ax.set(xlabel='Top 10 Features', ylabel='Importance Score', title='Important Features with only JavaParser Metrics', xticklabels=top_10.index)\n",
    "\n",
    "print(top_10)"
   ]
  },
  {
   "cell_type": "code",
   "execution_count": 69,
   "id": "ccb3f5d9-8297-4205-a288-13c81d767c9a",
   "metadata": {},
   "outputs": [
    {
     "name": "stdout",
     "output_type": "stream",
     "text": [
      "R2 Score: 0.07188\n",
      "Adj. R2: 0.06036\n",
      "RMSE: 0.02440\n",
      "MAE: 0.12385\n"
     ]
    }
   ],
   "source": [
    "y_pred = rforestreg.predict(X_test)\n",
    "\n",
    "r2 = r2_score(y_test, y_pred)\n",
    "\n",
    "adj_r2 = cacl_adj_r2(r2, len(y), X.shape[1])\n",
    "\n",
    "rmse = mean_squared_error(y_test, y_pred, squared=True)\n",
    "\n",
    "mae = mean_absolute_error(y_test, y_pred)\n",
    "\n",
    "print(f\"R2 Score: {r2:.5f}\\nAdj. R2: {adj_r2:.5f}\\nRMSE: {rmse:.5f}\\nMAE: {mae:.5f}\")"
   ]
  },
  {
   "cell_type": "markdown",
   "id": "09cd8dee-72f7-4a0a-bd90-ebfcff09751b",
   "metadata": {},
   "source": [
    "## 6.1 Model Evaluation for model with JavaParser Metrics Only"
   ]
  },
  {
   "cell_type": "markdown",
   "id": "6c4fc38f-4803-4110-b9b1-d512d804c0e7",
   "metadata": {},
   "source": [
    "### 6.1.1 Ridge Regression without Tuning"
   ]
  },
  {
   "cell_type": "code",
   "execution_count": 10,
   "id": "2e0026af-e808-44c3-83ed-4449d0cb54c7",
   "metadata": {
    "tags": []
   },
   "outputs": [
    {
     "name": "stdout",
     "output_type": "stream",
     "text": [
      "R2 Score: -0.01610\n",
      "Adj. R2: -0.02722\n",
      "RMSE: 0.02597\n",
      "MAE: 0.12428\n"
     ]
    }
   ],
   "source": [
    "X = df_new[['surfaceFors', 'nestedFors', 'surfaceIfs', 'nestedIfs', 'surfaceWhiles', 'nestedWhiles', 'surfaceDos','nestedDos','surfaceSwitches','nestedSwitches']]\n",
    "\n",
    "y = df_new['PropStatPassed']\n",
    "\n",
    "X_train, X_test, y_train, y_test = train_test_split(X, y, \n",
    "                                            test_size=0.3, random_state=1)\n",
    "ridge = Ridge() \n",
    "\n",
    "ridge.fit(X_train, y_train)\n",
    "\n",
    "y_pred = ridge.predict(X_test)\n",
    "\n",
    "r2 = r2_score(y_test, y_pred)\n",
    "\n",
    "adj_r2 = cacl_adj_r2(r2, len(y), X.shape[1])\n",
    "\n",
    "rmse = mean_squared_error(y_test, y_pred, squared=True)\n",
    "\n",
    "mae = mean_absolute_error(y_test, y_pred)\n",
    "\n",
    "print(f\"R2 Score: {r2:.5f}\\nAdj. R2: {adj_r2:.5f}\\nRMSE: {rmse:.5f}\\nMAE: {mae:.5f}\")\n"
   ]
  },
  {
   "cell_type": "markdown",
   "id": "021192ae-6bf2-4f2f-81df-0edfdb31cc4c",
   "metadata": {},
   "source": [
    "### 6.1.2 Ridge Regression with Tuning"
   ]
  },
  {
   "cell_type": "code",
   "execution_count": 11,
   "id": "a3648163-91da-4b59-901e-60d76133b137",
   "metadata": {},
   "outputs": [
    {
     "name": "stdout",
     "output_type": "stream",
     "text": [
      "Best Score: -0.11592059005126489\n",
      "Best Hyperparameters: {'alpha': 0.18339906122816327, 'fit_intercept': True, 'normalize': True, 'solver': 'lsqr'}\n",
      "{'alpha': 1.0, 'copy_X': True, 'fit_intercept': True, 'max_iter': None, 'normalize': 'deprecated', 'positive': False, 'random_state': None, 'solver': 'auto', 'tol': 0.001}\n"
     ]
    },
    {
     "name": "stderr",
     "output_type": "stream",
     "text": [
      "C:\\Users\\lj\\anaconda3\\lib\\site-packages\\sklearn\\linear_model\\_base.py:141: FutureWarning: 'normalize' was deprecated in version 1.0 and will be removed in 1.2.\n",
      "If you wish to scale the data, use Pipeline with a StandardScaler in a preprocessing stage. To reproduce the previous behavior:\n",
      "\n",
      "from sklearn.pipeline import make_pipeline\n",
      "\n",
      "model = make_pipeline(StandardScaler(with_mean=False), Ridge())\n",
      "\n",
      "If you wish to pass a sample_weight parameter, you need to pass it as a fit parameter to each step of the pipeline as follows:\n",
      "\n",
      "kwargs = {s[0] + '__sample_weight': sample_weight for s in model.steps}\n",
      "model.fit(X, y, **kwargs)\n",
      "\n",
      "Set parameter alpha to: original_alpha * n_samples. \n",
      "  warnings.warn(\n"
     ]
    }
   ],
   "source": [
    "X = df_new[['surfaceFors', 'nestedFors', 'surfaceIfs', 'nestedIfs', 'surfaceWhiles', 'nestedWhiles', 'surfaceDos','nestedDos','surfaceSwitches','nestedSwitches']]\n",
    "\n",
    "y = df_new['PropStatPassed']\n",
    "\n",
    "X_train, X_test, y_train, y_test = train_test_split(X, y, \n",
    "                                            test_size=0.3, random_state=1)\n",
    "ridge = Ridge()\n",
    "\n",
    "# Set up cross validation technique \n",
    "cv = RepeatedKFold(n_splits=10, n_repeats=3, random_state=1)\n",
    "\n",
    "# Create Search space\n",
    "space = dict()\n",
    "\n",
    "space['solver'] = ['svd', 'cholesky', 'lsqr', 'sag']\n",
    "\n",
    "space['alpha'] = loguniform(1e-5, 100)\n",
    "\n",
    "space['fit_intercept'] = [True, False]\n",
    "\n",
    "space['normalize'] = [True, False]\n",
    "\n",
    "# Define search\n",
    "search = RandomizedSearchCV(ridge, space, n_iter=800, scoring='neg_mean_absolute_error', n_jobs=-1, cv=cv, random_state=1)\n",
    "\n",
    "# Fit search\n",
    "result = search.fit(X_train, y_train)\n",
    "\n",
    "print('Best Score: %s' % result.best_score_)\n",
    "\n",
    "print('Best Hyperparameters: %s' % result.best_params_)\n",
    "\n",
    "print(ridge.get_params())"
   ]
  },
  {
   "cell_type": "code",
   "execution_count": 12,
   "id": "39b6d443-eebc-4cc6-8e07-86bf44acc2e3",
   "metadata": {},
   "outputs": [
    {
     "name": "stdout",
     "output_type": "stream",
     "text": [
      "R2 Score: -0.01430\n",
      "Adj. R2: -0.02540\n",
      "RMSE: 0.02592\n",
      "MAE: 0.12422\n"
     ]
    },
    {
     "name": "stderr",
     "output_type": "stream",
     "text": [
      "C:\\Users\\lj\\anaconda3\\lib\\site-packages\\sklearn\\linear_model\\_base.py:148: FutureWarning: 'normalize' was deprecated in version 1.0 and will be removed in 1.2. Please leave the normalize parameter to its default value to silence this warning. The default behavior of this estimator is to not do any normalization. If normalization is needed please use sklearn.preprocessing.StandardScaler instead.\n",
      "  warnings.warn(\n"
     ]
    }
   ],
   "source": [
    "ridge = Ridge(solver='lsqr', fit_intercept=True, normalize=False, alpha=0.18339906122816327)\n",
    "\n",
    "ridge.fit(X_train, y_train)\n",
    "\n",
    "y_pred = ridge.predict(X_test)\n",
    "\n",
    "r2 = r2_score(y_test, y_pred)\n",
    "\n",
    "adj_r2 = cacl_adj_r2(r2, len(y), X.shape[1])\n",
    "\n",
    "rmse = mean_squared_error(y_test, y_pred, squared=True)\n",
    "\n",
    "mae = mean_absolute_error(y_test, y_pred)\n",
    "\n",
    "print(f\"R2 Score: {r2:.5f}\\nAdj. R2: {adj_r2:.5f}\\nRMSE: {rmse:.5f}\\nMAE: {mae:.5f}\")"
   ]
  },
  {
   "cell_type": "markdown",
   "id": "5d310fb3-59e4-464a-a05e-29ced90c394a",
   "metadata": {},
   "source": [
    "### 6.2 KNN without Tuning"
   ]
  },
  {
   "cell_type": "code",
   "execution_count": 13,
   "id": "b0b58caf-3ca6-4b13-bf20-0c194e9d1560",
   "metadata": {},
   "outputs": [
    {
     "name": "stdout",
     "output_type": "stream",
     "text": [
      "R2 Score: -0.09884\n",
      "Adj. R2: -0.11087\n",
      "RMSE: 0.02809\n",
      "MAE: 0.13003\n"
     ]
    }
   ],
   "source": [
    "X = df_new[['surfaceFors', 'nestedFors', 'surfaceIfs', 'nestedIfs', 'surfaceWhiles', 'nestedWhiles', 'surfaceDos','nestedDos','surfaceSwitches','nestedSwitches']]\n",
    "\n",
    "y = df_new['PropStatPassed']\n",
    "\n",
    "X_train, X_test, y_train, y_test = train_test_split(X, y, \n",
    "                                            test_size=0.3, random_state=1)\n",
    "knnreg = KNeighborsRegressor()\n",
    "\n",
    "knnreg.fit(X_train, y_train)\n",
    "\n",
    "y_pred = knnreg.predict(X_test)\n",
    "\n",
    "r2 = r2_score(y_test, y_pred)\n",
    "\n",
    "adj_r2 = cacl_adj_r2(r2, len(y), X.shape[1])\n",
    "\n",
    "rmse = mean_squared_error(y_test, y_pred, squared=True)\n",
    "\n",
    "mae = mean_absolute_error(y_test, y_pred)\n",
    "\n",
    "print(f\"R2 Score: {r2:.5f}\\nAdj. R2: {adj_r2:.5f}\\nRMSE: {rmse:.5f}\\nMAE: {mae:.5f}\")"
   ]
  },
  {
   "cell_type": "markdown",
   "id": "81d0ad67-6b05-429f-b9c3-fe3f731a8b3f",
   "metadata": {},
   "source": [
    "### 6.2.2 KNN with Tuning"
   ]
  },
  {
   "cell_type": "code",
   "execution_count": 38,
   "id": "de28eb1e-ae38-49b4-9c1c-8b1c14b9a0dd",
   "metadata": {},
   "outputs": [
    {
     "name": "stderr",
     "output_type": "stream",
     "text": [
      "C:\\Users\\lj\\anaconda3\\lib\\site-packages\\sklearn\\model_selection\\_search.py:285: UserWarning: The total space of parameters 972 is smaller than n_iter=1000. Running 972 iterations. For exhaustive searches, use GridSearchCV.\n",
      "  warnings.warn(\n"
     ]
    },
    {
     "name": "stdout",
     "output_type": "stream",
     "text": [
      "Best Score: -0.07392226296915143\n",
      "Best Hyperparameters: {'weights': 'uniform', 'p': 3, 'n_neighbors': 20, 'leaf_size': 320, 'algorithm': 'ball_tree'}\n"
     ]
    }
   ],
   "source": [
    "X = df_new[['surfaceFors', 'nestedFors', 'surfaceIfs', 'nestedIfs', 'surfaceWhiles', 'nestedWhiles', 'surfaceDos','nestedDos','surfaceSwitches','nestedSwitches']]\n",
    "\n",
    "y = df_new['PropStatPassed']\n",
    "\n",
    "X_train, X_test, y_train, y_test = train_test_split(X, y, \n",
    "                                            test_size=0.3, random_state=1)\n",
    "knnreg = KNeighborsRegressor()\n",
    "\n",
    "# Set up cross validation technique \n",
    "cv = RepeatedKFold(n_splits=10, n_repeats=3, random_state=1)\n",
    "\n",
    "# Create Search space\n",
    "space = dict()\n",
    "\n",
    "space['algorithm'] = ['ball_tree', 'kd_tree', 'brute']\n",
    "\n",
    "space['n_neighbors'] = [2, 3, 5, 10, 12, 15, 20, 25, 30]\n",
    "\n",
    "space['weights'] = ['uniform', 'distance']\n",
    "\n",
    "space['leaf_size'] = [10, 30, 60, 80, 160, 320]\n",
    "\n",
    "space['p'] = [1, 2, 3]\n",
    "\n",
    "# Define search\n",
    "search = RandomizedSearchCV(knnreg, space, n_iter=800, scoring='neg_mean_absolute_error', n_jobs=-1, cv=cv, random_state=1)\n",
    "\n",
    "# Fit search\n",
    "result = search.fit(X_train, y_train)\n",
    "\n",
    "print('Best Score: %s' % result.best_score_)\n",
    "\n",
    "print('Best Hyperparameters: %s' % result.best_params_)"
   ]
  },
  {
   "cell_type": "code",
   "execution_count": 14,
   "id": "20284d4c-9e3f-4142-b847-e31099996e9f",
   "metadata": {},
   "outputs": [
    {
     "name": "stdout",
     "output_type": "stream",
     "text": [
      "R2 Score: 0.02972\n",
      "Adj. R2: 0.01910\n",
      "RMSE: 0.02480\n",
      "MAE: 0.12246\n"
     ]
    }
   ],
   "source": [
    "knnreg = KNeighborsRegressor(n_neighbors=20, weights='uniform', p=3, leaf_size=320, algorithm='ball_tree')\n",
    "\n",
    "knnreg.fit(X_train, y_train)\n",
    "\n",
    "y_pred = knnreg.predict(X_test)\n",
    "\n",
    "r2 = r2_score(y_test, y_pred)\n",
    "    \n",
    "adj_r2 = cacl_adj_r2(r2, len(y), X.shape[1])\n",
    "\n",
    "rmse = mean_squared_error(y_test, y_pred, squared=True)\n",
    "\n",
    "mae = mean_absolute_error(y_test, y_pred)\n",
    "\n",
    "print(f\"R2 Score: {r2:.5f}\\nAdj. R2: {adj_r2:.5f}\\nRMSE: {rmse:.5f}\\nMAE: {mae:.5f}\")"
   ]
  },
  {
   "cell_type": "markdown",
   "id": "bb918ab9-4ed5-43f9-9912-c7477c0fc45f",
   "metadata": {},
   "source": [
    "### 6.3.1 RandomForest without Tuning"
   ]
  },
  {
   "cell_type": "code",
   "execution_count": 15,
   "id": "2558c47a-c04e-4e94-804a-81d461b0a6a5",
   "metadata": {
    "tags": []
   },
   "outputs": [
    {
     "name": "stdout",
     "output_type": "stream",
     "text": [
      "R2 Score: -0.00093\n",
      "Adj. R2: -0.01188\n",
      "RMSE: 0.02558\n",
      "MAE: 0.12529\n",
      "{'bootstrap': True, 'ccp_alpha': 0.0, 'criterion': 'squared_error', 'max_depth': None, 'max_features': 'auto', 'max_leaf_nodes': None, 'max_samples': None, 'min_impurity_decrease': 0.0, 'min_samples_leaf': 1, 'min_samples_split': 2, 'min_weight_fraction_leaf': 0.0, 'n_estimators': 100, 'n_jobs': None, 'oob_score': False, 'random_state': None, 'verbose': 0, 'warm_start': False}\n"
     ]
    }
   ],
   "source": [
    "X = df_new[['surfaceFors', 'nestedFors', 'surfaceIfs', 'nestedIfs', 'surfaceWhiles', 'nestedWhiles', 'surfaceDos','nestedDos','surfaceSwitches','nestedSwitches']]\n",
    "\n",
    "y = df_new['PropStatPassed']\n",
    "\n",
    "X_train, X_test, y_train, y_test = train_test_split(X, y, \n",
    "                                            test_size=0.3, random_state=1)\n",
    "rforestreg = RandomForestRegressor()\n",
    "\n",
    "rforestreg.fit(X_train, y_train)\n",
    "\n",
    "y_pred = rforestreg.predict(X_test)\n",
    "\n",
    "r2 = r2_score(y_test, y_pred)\n",
    "\n",
    "adj_r2 = cacl_adj_r2(r2, len(y), X.shape[1])\n",
    "\n",
    "rmse = mean_squared_error(y_test, y_pred, squared=True)\n",
    "\n",
    "mae = mean_absolute_error(y_test, y_pred)\n",
    "\n",
    "print(f\"R2 Score: {r2:.5f}\\nAdj. R2: {adj_r2:.5f}\\nRMSE: {rmse:.5f}\\nMAE: {mae:.5f}\")\n",
    "print(rforestreg.get_params())"
   ]
  },
  {
   "cell_type": "markdown",
   "id": "0e0af2e4-daf8-4b0d-82ab-f11e517e5f24",
   "metadata": {},
   "source": [
    "### 6.3.2 RandomForest with Tuning"
   ]
  },
  {
   "cell_type": "code",
   "execution_count": 24,
   "id": "5cee4493-c4ea-4b4f-949d-3301a53dde60",
   "metadata": {},
   "outputs": [
    {
     "name": "stdout",
     "output_type": "stream",
     "text": [
      "Best Score: -0.11717826312330025\n",
      "Best Hyperparameters: {'bootstrap': True, 'ccp_alpha': 0.00017114877263936507, 'n_estimators': 250, 'warm_start': True}\n"
     ]
    }
   ],
   "source": [
    "X = df_new[['surfaceFors', 'nestedFors', 'surfaceIfs', 'nestedIfs', 'surfaceWhiles', 'nestedWhiles', 'surfaceDos','nestedDos','surfaceSwitches','nestedSwitches']]\n",
    "\n",
    "y = df_new['PropStatPassed']\n",
    "\n",
    "X_train, X_test, y_train, y_test = train_test_split(X, y, \n",
    "                                            test_size=0.3, random_state=1)\n",
    "rforestreg = RandomForestRegressor()\n",
    "\n",
    "# Set up cross validation technique \n",
    "cv = RepeatedKFold(n_splits=10, n_repeats=3, random_state=1)\n",
    "\n",
    "# Create Search space\n",
    "space = dict()\n",
    "\n",
    "space['n_estimators'] = [100, 250, 300, 350, 400, 450, 500]\n",
    "\n",
    "space['bootstrap'] = [True, False]\n",
    "\n",
    "space['warm_start'] = [True, False]\n",
    "\n",
    "space['ccp_alpha'] = loguniform(1e-5, 100)\n",
    "\n",
    "# Define search\n",
    "search = RandomizedSearchCV(rforestreg, space, n_iter=800, scoring='neg_mean_absolute_error', n_jobs=-1, cv=cv, random_state=1)\n",
    "\n",
    "# Fit search\n",
    "result = search.fit(X_train, y_train)\n",
    "\n",
    "print('Best Score: %s' % result.best_score_)\n",
    "\n",
    "print('Best Hyperparameters: %s' % result.best_params_)\n"
   ]
  },
  {
   "cell_type": "code",
   "execution_count": 25,
   "id": "8a376522-631a-455e-8d7f-4481f8c7777f",
   "metadata": {},
   "outputs": [
    {
     "name": "stdout",
     "output_type": "stream",
     "text": [
      "R2 Score: 0.07215\n",
      "Adj. R2: 0.06199\n",
      "RMSE: 0.02372\n",
      "MAE: 0.12064\n"
     ]
    }
   ],
   "source": [
    "rforestreg = RandomForestRegressor(n_estimators = 250, warm_start=True, bootstrap=True, ccp_alpha=0.00017114877263936507)\n",
    "\n",
    "rforestreg.fit(X_train, y_train)\n",
    "\n",
    "y_pred = rforestreg.predict(X_test)\n",
    "\n",
    "r2 = r2_score(y_test, y_pred)\n",
    "\n",
    "adj_r2 = cacl_adj_r2(r2, len(y), X.shape[1])\n",
    "\n",
    "rmse = mean_squared_error(y_test, y_pred, squared=True)\n",
    "\n",
    "mae = mean_absolute_error(y_test, y_pred)\n",
    "\n",
    "print(f\"R2 Score: {r2:.5f}\\nAdj. R2: {adj_r2:.5f}\\nRMSE: {rmse:.5f}\\nMAE: {mae:.5f}\")"
   ]
  },
  {
   "cell_type": "markdown",
   "id": "5584dd0e-7830-4e00-9ba8-8d801c5b1aaf",
   "metadata": {
    "tags": []
   },
   "source": [
    "### 6.4.1 MLPRegressor without Tuning"
   ]
  },
  {
   "cell_type": "code",
   "execution_count": 27,
   "id": "189be4fb-8b8c-4083-9ccc-37af5bc84c80",
   "metadata": {
    "tags": []
   },
   "outputs": [
    {
     "name": "stdout",
     "output_type": "stream",
     "text": [
      "R2 Score: -2.69076\n",
      "Adj. R2: -2.72706\n",
      "RMSE: 0.09791\n",
      "MAE: 0.18597\n"
     ]
    }
   ],
   "source": [
    "X = df_new[['ncss', 'cyclomatic', 'npath', 'AveUseDefDist', 'MedDefUseDist', 'cyc/length', 'ncss/length', 'npath/length', 'NotDeclared']]\n",
    "\n",
    "y = df_new['PropStatCompiled']\n",
    "\n",
    "X_train, X_test, y_train, y_test = train_test_split(X, y, \n",
    "                                            test_size=0.3, random_state=1)\n",
    "mlpreg = MLPRegressor()\n",
    "\n",
    "mlpreg.fit(X_train, y_train)\n",
    "\n",
    "y_pred = mlpreg.predict(X_test)\n",
    "\n",
    "r2 = r2_score(y_test, y_pred)\n",
    "\n",
    "adj_r2 = cacl_adj_r2(r2, len(y), X.shape[1])\n",
    "\n",
    "rmse = mean_squared_error(y_test, y_pred, squared=True)\n",
    "\n",
    "mae = mean_absolute_error(y_test, y_pred)\n",
    "\n",
    "print(f\"R2 Score: {r2:.5f}\\nAdj. R2: {adj_r2:.5f}\\nRMSE: {rmse:.5f}\\nMAE: {mae:.5f}\")"
   ]
  },
  {
   "cell_type": "markdown",
   "id": "eade5818-0acb-4d97-a04e-2e0d9bd8c0e7",
   "metadata": {},
   "source": [
    "### 6.4.2 MLPRegressor with Tuning"
   ]
  },
  {
   "cell_type": "code",
   "execution_count": 28,
   "id": "a0984ee4-b4a2-4680-b725-de7124519842",
   "metadata": {},
   "outputs": [
    {
     "name": "stdout",
     "output_type": "stream",
     "text": [
      "Random Search Best Score: -0.122763735710209\n",
      "Random Search Best Hyperparameters: {'activation': 'tanh', 'alpha': 0.48777805499545607, 'hidden_layer_sizes': (50, 100, 50), 'learning_rate': 'constant', 'solver': 'adam'}\n"
     ]
    }
   ],
   "source": [
    "X = df_new[['ncss', 'cyclomatic', 'npath', 'AveUseDefDist', 'MedDefUseDist', 'cyc/length', 'ncss/length', 'npath/length', 'NotDeclared']]\n",
    "\n",
    "y = df_new['PropStatCompiled']\n",
    "\n",
    "X_train, X_test, y_train, y_test = train_test_split(X, y, \n",
    "                                            test_size=0.3, random_state=1)\n",
    "mlpreg = MLPRegressor(max_iter=5500)\n",
    "\n",
    "# Set up cross validation technique \n",
    "cv = RepeatedKFold(n_splits=10, n_repeats=3, random_state=1)\n",
    "\n",
    "# Create Search space\n",
    "space = dict()\n",
    "\n",
    "space['hidden_layer_sizes'] = [(50,50,50), (50,100,50), (100,1), (100, 50, 1)]\n",
    "\n",
    "space['activation'] = ['relu', 'tanh', 'logistic']\n",
    "\n",
    "space['alpha'] = loguniform(1e-5, 100)\n",
    "\n",
    "space['learning_rate'] = ['constant', 'adaptive']\n",
    "\n",
    "space['solver'] = ['adam', 'lbfgs']\n",
    "\n",
    "# Define search\n",
    "random_search = RandomizedSearchCV(mlpreg, space, n_iter=800, scoring='neg_mean_absolute_error', n_jobs=-1, cv=cv, random_state=1)\n",
    "\n",
    "# Fit search\n",
    "random_search_result = random_search.fit(X_train, y_train)\n",
    "                     \n",
    "print('Random Search Best Score: %s' % random_search_result.best_score_)\n",
    "\n",
    "print('Random Search Best Hyperparameters: %s' % random_search_result.best_params_)\n"
   ]
  },
  {
   "cell_type": "code",
   "execution_count": 29,
   "id": "6102df3b-459d-4a05-a18e-d13b421e7edb",
   "metadata": {},
   "outputs": [
    {
     "name": "stdout",
     "output_type": "stream",
     "text": [
      "R2 Score: 0.05907\n",
      "Adj. R2: 0.04982\n",
      "RMSE: 0.02496\n",
      "MAE: 0.12566\n"
     ]
    },
    {
     "name": "stderr",
     "output_type": "stream",
     "text": [
      "C:\\Users\\lj\\anaconda3\\lib\\site-packages\\sklearn\\neural_network\\_multilayer_perceptron.py:692: ConvergenceWarning: Stochastic Optimizer: Maximum iterations (200) reached and the optimization hasn't converged yet.\n",
      "  warnings.warn(\n"
     ]
    }
   ],
   "source": [
    "mlpreg = MLPRegressor(activation='tanh', alpha=0.4877780549954560, hidden_layer_sizes=(50, 100, 50), learning_rate='adaptive', solver='adam')\n",
    "\n",
    "mlpreg.fit(X_train, y_train)\n",
    "\n",
    "y_pred = mlpreg.predict(X_test)\n",
    "\n",
    "r2 = r2_score(y_test, y_pred)\n",
    "\n",
    "adj_r2 = cacl_adj_r2(r2, len(y), X.shape[1])\n",
    "\n",
    "rmse = mean_squared_error(y_test, y_pred, squared=True)\n",
    "\n",
    "mae = mean_absolute_error(y_test, y_pred)\n",
    "\n",
    "print(f\"R2 Score: {r2:.5f}\\nAdj. R2: {adj_r2:.5f}\\nRMSE: {rmse:.5f}\\nMAE: {mae:.5f}\")"
   ]
  },
  {
   "cell_type": "code",
   "execution_count": null,
   "id": "9ad684d2-82e3-4ceb-be56-6e72143ceb41",
   "metadata": {},
   "outputs": [],
   "source": []
  }
 ],
 "metadata": {
  "kernelspec": {
   "display_name": "Python 3 (ipykernel)",
   "language": "python",
   "name": "python3"
  },
  "language_info": {
   "codemirror_mode": {
    "name": "ipython",
    "version": 3
   },
   "file_extension": ".py",
   "mimetype": "text/x-python",
   "name": "python",
   "nbconvert_exporter": "python",
   "pygments_lexer": "ipython3",
   "version": "3.9.12"
  }
 },
 "nbformat": 4,
 "nbformat_minor": 5
}
